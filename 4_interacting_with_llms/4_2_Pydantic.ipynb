{
 "cells": [
  {
   "cell_type": "markdown",
   "id": "28d78aa2",
   "metadata": {},
   "source": [
    "> ### Learning Objectives\n",
    "> \n",
    "> This notebook teaches how to solve the problem of unstructured or unreliable data from LLMs by using the Pydantic library to define, validate, and parse data into a reliable structure.\n",
    "> \n",
    "> **After completing this notebook, you will be able to:**\n",
    "> \n",
    "> * Explain the challenges of using raw LLM-generated JSON, such as extraneous text and incorrect data types that cause parsing errors.\n",
    "> * Define a Pydantic model using `BaseModel` to enforce a specific data structure with typed fields (e.g., `str`, `int`, `List`).\n",
    "> * Instantiate a Pydantic model from a dictionary of data and access its validated attributes.\n",
    "> * Interpret Pydantic `ValidationError` messages to pinpoint data quality issues.\n",
    "> * Generate a machine-readable JSON Schema from a Pydantic model.\n",
    "> * Explain \"constrained generation\" and use a Pydantic-generated schema within an LLM API call to force the model to return perfectly structured, valid JSON.\n",
    "> * Implement a complete workflow to convert unstructured text into a validated Pydantic object using an LLM API."
   ]
  },
  {
   "cell_type": "markdown",
   "id": "c096548e",
   "metadata": {},
   "source": [
    "# Enforcing Data Schemas with Pydantic and LLMs\n",
    "\n",
    "## Working with Structured Data in Programming\n",
    "\n",
    "Programming operates on structured data principles. Modern software systems communicate through standardized formats, store information in organized schemas, and process data according to defined patterns. This structured approach enables different systems to interact seamlessly and ensures data integrity across applications.\n",
    "\n",
    "\n",
    "### The Challenge of Unstructured Output\n",
    "\n",
    "Consider a practical scenario in healthcare. When a doctor dictates clinical notes, the natural language output might appear as:\n",
    "\n",
    "**Doctor's Note:**\n",
    "\"47-year-old man with history of high blood pressure and type 2 diabetes presents with chest pain for 3 days. Pain radiates to left arm and jaw, worsens with exertion, improves with rest. Associated with shortness of breath, nausea, sweating. Exam: elevated blood pressure, fast heart rate, low oxygen. Lungs clear, no murmurs. Tests: elevated troponin, ECG shows ST depression in leads II, III, and aVF. Impression: Likely acute coronary syndrome. Consider unstable angina or non-ST elevation heart attack.\"\n",
    "\n",
    "While this narrative format serves human readers well, databases and applications require structured data. Electronic health records, billing systems, and clinical decision support tools need information organized in a predictable, machine-readable format. For instance, using the following dictionary:\n",
    "\n",
    "```json\n",
    "{\n",
    "    \"age\": 47,\n",
    "    \"sex\": \"male\",\n",
    "    \"history\": [\"high blood pressure\", \"type 2 diabetes\"],\n",
    "    \"main_symptom\": \"chest pain for 3 days, radiating to arm and jaw, worse with exertion, better with rest\",\n",
    "    \"associated_symptoms\": [\"shortness of breath\", \"nausea\", \"sweating\"],\n",
    "    \"exam_findings\": [\"elevated blood pressure\", \"fast heart rate\", \"low oxygen\", \"lungs clear\", \"no murmurs\"],\n",
    "    \"tests\": [\"elevated troponin\", \"ECG with ST depression in leads II, III, aVF\"],\n",
    "    \"impression\": \"acute coronary syndrome (possible unstable angina or non-ST elevation heart attack)\"\n",
    "}\n",
    "```\n",
    "\n",
    "This structured format enables seamless integration with laboratory systems, insurance providers, and clinical databases. Each piece of information is stored in a specific field with a defined data type (e.g., integer age, list of associated_symptoms, etc.), making automated processing possible.\n",
    "\n",
    "The standards are usually so critical that even minor variations in structure can break system compatibility. Consider this alternative format:\n",
    "\n",
    "```json\n",
    "{\n",
    "    \"patient_age\": 47,\n",
    "    \"sex\": \"M\",\n",
    "    \"history\": {\"high blood pressure\", \"type 2 diabetes\"},\n",
    "    \"main_symptom\": [\"chest pain for 3 days, radiating to arm and jaw, worse with exertion, better with rest\"],\n",
    "    \"symptoms\": {\"shortness of breath\", \"nausea\", \"sweating\"},\n",
    "    \"exam_findings\": [\"elevated blood pressure\", \"fast heart rate\", \"low oxygen\", \"lungs clear\", \"no murmurs\"],\n",
    "    \"tests\": [\"elevated troponin\", \"ECG with ST depression in leads II, III, aVF\"],\n",
    "    \"impression\": \"acute coronary syndrome (possible unstable angina or non-ST elevation heart attack)\"\n",
    "}\n",
    "```\n",
    "\n",
    "The differences may seem trivial:\n",
    "- The field `age` becomes `patient_age`\n",
    "- The value for `sex` changes from \"male\" to \"M\"\n",
    "- `symptoms` uses a set structure instead of a list\n",
    "- etc...\n",
    "\n",
    "These inconsistencies prevent automated systems from processing the data correctly. A program expecting `age` will fail when encountering `patient_age`. Code designed to iterate through a list of symptoms will crash when receiving a set. Systems expecting the full word \"male\" cannot process the abbreviation \"M\" without additional mapping logic.\n",
    "\n",
    "### Converting Text to Structured Data with LLMs\n",
    "\n",
    "Large Language Models offer a promising solution for converting unstructured text into structured formats. The straightforward approach involves providing explicit instructions to convert text into a desired format. For instance:\n",
    "\n",
    "```\n",
    "Convert the following text to a JSON object with this exact structure:\n",
    "{\n",
    "    \"age\": <patient's age as an integer>,\n",
    "    \"sex\": <patient's sex>,\n",
    "    \"history\": [list of medical history items],\n",
    "    \"main_symptom\": \"description of primary symptom\",\n",
    "    \"associated_symptoms\": [list of accompanying symptoms],\n",
    "    \"exam_findings\": [list of examination results],\n",
    "    \"tests\": [list of test results],\n",
    "    \"impression\": \"clinical assessment\"\n",
    "}\n",
    "```\n",
    "\n",
    "While LLMs often produce reasonable results, several issues arise:\n",
    "\n",
    "**Issue 1: Extraneous Text**\n",
    "\n",
    "The LLM might return:\n",
    "```\n",
    "Here is the JSON output as requested:\n",
    "{\n",
    "    \"age\": 47,\n",
    "    \"sex\": \"male\",\n",
    "    ...\n",
    "}\n",
    "```\n",
    "\n",
    "This response includes explanatory text that prevents direct JSON parsing. When a Python program attempts to process this output:\n"
   ]
  },
  {
   "cell_type": "code",
   "execution_count": 31,
   "id": "39ad04d5",
   "metadata": {},
   "outputs": [
    {
     "name": "stdout",
     "output_type": "stream",
     "text": [
      "{'age': 47, 'sex': 'male', 'history': ['high blood pressure', 'type 2 diabetes'], 'main_symptom': 'chest pain for 3 days, radiating to arm and jaw, worse with exertion, better with rest', 'associated_symptoms': ['shortness of breath', 'nausea', 'sweating'], 'exam_findings': ['elevated blood pressure', 'fast heart rate', 'low oxygen', 'lungs clear', 'no murmurs'], 'tests': ['elevated troponin', 'ECG with ST depression in leads II, III, aVF'], 'impression': 'acute coronary syndrome (possible unstable angina or non-ST elevation heart attack)'}\n"
     ]
    }
   ],
   "source": [
    "\n",
    "import json\n",
    "LLM_output = \"\"\"\n",
    "{\n",
    "    \"age\": 47,\n",
    "    \"sex\": \"male\",\n",
    "    \"history\": [\"high blood pressure\", \"type 2 diabetes\"],\n",
    "    \"main_symptom\": \"chest pain for 3 days, radiating to arm and jaw, worse with exertion, better with rest\",\n",
    "    \"associated_symptoms\": [\"shortness of breath\", \"nausea\", \"sweating\"],\n",
    "    \"exam_findings\": [\"elevated blood pressure\", \"fast heart rate\", \"low oxygen\", \"lungs clear\", \"no murmurs\"],\n",
    "    \"tests\": [\"elevated troponin\", \"ECG with ST depression in leads II, III, aVF\"],\n",
    "    \"impression\": \"acute coronary syndrome (possible unstable angina or non-ST elevation heart attack)\"\n",
    "}\n",
    "\"\"\"\n",
    "patient_record = json.loads(LLM_output)\n",
    "print(patient_record)"
   ]
  },
  {
   "cell_type": "code",
   "execution_count": 34,
   "id": "a9ad6292",
   "metadata": {},
   "outputs": [
    {
     "data": {
      "text/plain": [
       "False"
      ]
     },
     "execution_count": 34,
     "metadata": {},
     "output_type": "execute_result"
    }
   ],
   "source": [
    "patient_record['age'] < 45"
   ]
  },
  {
   "cell_type": "code",
   "execution_count": 36,
   "id": "d1277060",
   "metadata": {},
   "outputs": [
    {
     "ename": "JSONDecodeError",
     "evalue": "Expecting value: line 2 column 1 (char 1)",
     "output_type": "error",
     "traceback": [
      "\u001b[0;31m---------------------------------------------------------------------------\u001b[0m",
      "\u001b[0;31mJSONDecodeError\u001b[0m                           Traceback (most recent call last)",
      "Cell \u001b[0;32mIn[36], line 14\u001b[0m\n\u001b[1;32m      1\u001b[0m \u001b[38;5;28;01mimport\u001b[39;00m \u001b[38;5;21;01mjson\u001b[39;00m\n\u001b[1;32m      2\u001b[0m LLM_output \u001b[38;5;241m=\u001b[39m \u001b[38;5;124m\"\"\"\u001b[39m\n\u001b[1;32m      3\u001b[0m \u001b[38;5;124mHere is the JSON output as requested:\u001b[39m\n\u001b[1;32m      4\u001b[0m \u001b[38;5;124m{\u001b[39m\n\u001b[0;32m   (...)\u001b[0m\n\u001b[1;32m     12\u001b[0m \u001b[38;5;124m    \u001b[39m\u001b[38;5;124m\"\u001b[39m\u001b[38;5;124mimpression\u001b[39m\u001b[38;5;124m\"\u001b[39m\u001b[38;5;124m: \u001b[39m\u001b[38;5;124m\"\u001b[39m\u001b[38;5;124macute coronary syndrome (possible unstable angina or non-ST elevation heart attack)\u001b[39m\u001b[38;5;124m\"\u001b[39m\n\u001b[1;32m     13\u001b[0m \u001b[38;5;124m}\u001b[39m\u001b[38;5;124m\"\"\"\u001b[39m\n\u001b[0;32m---> 14\u001b[0m patient_record \u001b[38;5;241m=\u001b[39m json\u001b[38;5;241m.\u001b[39mloads(LLM_output)\n",
      "File \u001b[0;32m~/miniconda3/envs/py3.12/lib/python3.12/json/__init__.py:346\u001b[0m, in \u001b[0;36mloads\u001b[0;34m(s, cls, object_hook, parse_float, parse_int, parse_constant, object_pairs_hook, **kw)\u001b[0m\n\u001b[1;32m    341\u001b[0m     s \u001b[38;5;241m=\u001b[39m s\u001b[38;5;241m.\u001b[39mdecode(detect_encoding(s), \u001b[38;5;124m'\u001b[39m\u001b[38;5;124msurrogatepass\u001b[39m\u001b[38;5;124m'\u001b[39m)\n\u001b[1;32m    343\u001b[0m \u001b[38;5;28;01mif\u001b[39;00m (\u001b[38;5;28mcls\u001b[39m \u001b[38;5;129;01mis\u001b[39;00m \u001b[38;5;28;01mNone\u001b[39;00m \u001b[38;5;129;01mand\u001b[39;00m object_hook \u001b[38;5;129;01mis\u001b[39;00m \u001b[38;5;28;01mNone\u001b[39;00m \u001b[38;5;129;01mand\u001b[39;00m\n\u001b[1;32m    344\u001b[0m         parse_int \u001b[38;5;129;01mis\u001b[39;00m \u001b[38;5;28;01mNone\u001b[39;00m \u001b[38;5;129;01mand\u001b[39;00m parse_float \u001b[38;5;129;01mis\u001b[39;00m \u001b[38;5;28;01mNone\u001b[39;00m \u001b[38;5;129;01mand\u001b[39;00m\n\u001b[1;32m    345\u001b[0m         parse_constant \u001b[38;5;129;01mis\u001b[39;00m \u001b[38;5;28;01mNone\u001b[39;00m \u001b[38;5;129;01mand\u001b[39;00m object_pairs_hook \u001b[38;5;129;01mis\u001b[39;00m \u001b[38;5;28;01mNone\u001b[39;00m \u001b[38;5;129;01mand\u001b[39;00m \u001b[38;5;129;01mnot\u001b[39;00m kw):\n\u001b[0;32m--> 346\u001b[0m     \u001b[38;5;28;01mreturn\u001b[39;00m _default_decoder\u001b[38;5;241m.\u001b[39mdecode(s)\n\u001b[1;32m    347\u001b[0m \u001b[38;5;28;01mif\u001b[39;00m \u001b[38;5;28mcls\u001b[39m \u001b[38;5;129;01mis\u001b[39;00m \u001b[38;5;28;01mNone\u001b[39;00m:\n\u001b[1;32m    348\u001b[0m     \u001b[38;5;28mcls\u001b[39m \u001b[38;5;241m=\u001b[39m JSONDecoder\n",
      "File \u001b[0;32m~/miniconda3/envs/py3.12/lib/python3.12/json/decoder.py:338\u001b[0m, in \u001b[0;36mJSONDecoder.decode\u001b[0;34m(self, s, _w)\u001b[0m\n\u001b[1;32m    333\u001b[0m \u001b[38;5;28;01mdef\u001b[39;00m \u001b[38;5;21mdecode\u001b[39m(\u001b[38;5;28mself\u001b[39m, s, _w\u001b[38;5;241m=\u001b[39mWHITESPACE\u001b[38;5;241m.\u001b[39mmatch):\n\u001b[1;32m    334\u001b[0m \u001b[38;5;250m    \u001b[39m\u001b[38;5;124;03m\"\"\"Return the Python representation of ``s`` (a ``str`` instance\u001b[39;00m\n\u001b[1;32m    335\u001b[0m \u001b[38;5;124;03m    containing a JSON document).\u001b[39;00m\n\u001b[1;32m    336\u001b[0m \n\u001b[1;32m    337\u001b[0m \u001b[38;5;124;03m    \"\"\"\u001b[39;00m\n\u001b[0;32m--> 338\u001b[0m     obj, end \u001b[38;5;241m=\u001b[39m \u001b[38;5;28mself\u001b[39m\u001b[38;5;241m.\u001b[39mraw_decode(s, idx\u001b[38;5;241m=\u001b[39m_w(s, \u001b[38;5;241m0\u001b[39m)\u001b[38;5;241m.\u001b[39mend())\n\u001b[1;32m    339\u001b[0m     end \u001b[38;5;241m=\u001b[39m _w(s, end)\u001b[38;5;241m.\u001b[39mend()\n\u001b[1;32m    340\u001b[0m     \u001b[38;5;28;01mif\u001b[39;00m end \u001b[38;5;241m!=\u001b[39m \u001b[38;5;28mlen\u001b[39m(s):\n",
      "File \u001b[0;32m~/miniconda3/envs/py3.12/lib/python3.12/json/decoder.py:356\u001b[0m, in \u001b[0;36mJSONDecoder.raw_decode\u001b[0;34m(self, s, idx)\u001b[0m\n\u001b[1;32m    354\u001b[0m     obj, end \u001b[38;5;241m=\u001b[39m \u001b[38;5;28mself\u001b[39m\u001b[38;5;241m.\u001b[39mscan_once(s, idx)\n\u001b[1;32m    355\u001b[0m \u001b[38;5;28;01mexcept\u001b[39;00m \u001b[38;5;167;01mStopIteration\u001b[39;00m \u001b[38;5;28;01mas\u001b[39;00m err:\n\u001b[0;32m--> 356\u001b[0m     \u001b[38;5;28;01mraise\u001b[39;00m JSONDecodeError(\u001b[38;5;124m\"\u001b[39m\u001b[38;5;124mExpecting value\u001b[39m\u001b[38;5;124m\"\u001b[39m, s, err\u001b[38;5;241m.\u001b[39mvalue) \u001b[38;5;28;01mfrom\u001b[39;00m \u001b[38;5;28;01mNone\u001b[39;00m\n\u001b[1;32m    357\u001b[0m \u001b[38;5;28;01mreturn\u001b[39;00m obj, end\n",
      "\u001b[0;31mJSONDecodeError\u001b[0m: Expecting value: line 2 column 1 (char 1)"
     ]
    }
   ],
   "source": [
    "# the following fails due to the text returned by the model.\n",
    "\n",
    "import json\n",
    "LLM_output = \"\"\"\n",
    "Here is the JSON output as requested:\n",
    "{\n",
    "    \"age\": 47,\n",
    "    \"sex\": \"male\",\n",
    "    \"history\": [\"high blood pressure\", \"type 2 diabetes\"],\n",
    "    \"main_symptom\": \"chest pain for 3 days, radiating to arm and jaw, worse with exertion, better with rest\",\n",
    "    \"associated_symptoms\": [\"shortness of breath\", \"nausea\", \"sweating\"],\n",
    "    \"exam_findings\": [\"elevated blood pressure\", \"fast heart rate\", \"low oxygen\", \"lungs clear\", \"no murmurs\"],\n",
    "    \"tests\": [\"elevated troponin\", \"ECG with ST depression in leads II, III, aVF\"],\n",
    "    \"impression\": \"acute coronary syndrome (possible unstable angina or non-ST elevation heart attack)\"\n",
    "}\"\"\"\n",
    "patient_record = json.loads(LLM_output)  # This fails!"
   ]
  },
  {
   "cell_type": "markdown",
   "id": "dffcbb82",
   "metadata": {},
   "source": [
    "In the above `json.loads()` function expects pure JSON and raises an error when encountering the explanatory text."
   ]
  },
  {
   "cell_type": "markdown",
   "id": "c43aa1ab",
   "metadata": {},
   "source": [
    "While the returned format may be converted to JSON without any errors, this does not mean that the data is valid.\n",
    "    \n",
    "For exmaple, while the following data setructure is valid json, \n",
    "\n",
    "\n"
   ]
  },
  {
   "cell_type": "code",
   "execution_count": 40,
   "id": "421e40dd",
   "metadata": {},
   "outputs": [
    {
     "data": {
      "text/plain": [
       "{'age': '47 years old',\n",
       " 'sex': 'male',\n",
       " 'history': ['high blood pressure', 'type 2 diabetes'],\n",
       " 'main_symptom': 'chest pain for 3 days, radiating to arm and jaw, worse with exertion, better with rest',\n",
       " 'associated_symptoms': ['shortness of breath', 'nausea', 'sweating'],\n",
       " 'exam_findings': ['elevated blood pressure',\n",
       "  'fast heart rate',\n",
       "  'low oxygen',\n",
       "  'lungs clear',\n",
       "  'no murmurs'],\n",
       " 'tests': ['elevated troponin',\n",
       "  'ECG with ST depression in leads II, III, aVF'],\n",
       " 'impression': 'acute coronary syndrome (possible unstable angina or non-ST elevation heart attack)'}"
      ]
     },
     "execution_count": 40,
     "metadata": {},
     "output_type": "execute_result"
    }
   ],
   "source": [
    "LLM_output = \"\"\"\n",
    "{\n",
    "    \"age\": \"47 years old\",\n",
    "    \"sex\": \"male\",\n",
    "    \"history\": [\"high blood pressure\", \"type 2 diabetes\"],\n",
    "    \"main_symptom\": \"chest pain for 3 days, radiating to arm and jaw, worse with exertion, better with rest\",\n",
    "    \"associated_symptoms\": [\"shortness of breath\", \"nausea\", \"sweating\"],\n",
    "    \"exam_findings\": [\"elevated blood pressure\", \"fast heart rate\", \"low oxygen\", \"lungs clear\", \"no murmurs\"],\n",
    "    \"tests\": [\"elevated troponin\", \"ECG with ST depression in leads II, III, aVF\"],\n",
    "    \"impression\": \"acute coronary syndrome (possible unstable angina or non-ST elevation heart attack)\"    \n",
    "\n",
    "}\n",
    "\"\"\"\n",
    "patient_record = json.loads(LLM_output)\n",
    "patient_record"
   ]
  },
  {
   "cell_type": "markdown",
   "id": "d7cc85a8",
   "metadata": {},
   "source": [
    "The comparison fails because `age` contains the string \"47 years old\" rather than the integer 47. Python cannot compare a string to a number directly, resulting in a TypeError.\n"
   ]
  },
  {
   "cell_type": "code",
   "execution_count": 41,
   "id": "6e62bddf",
   "metadata": {},
   "outputs": [
    {
     "ename": "TypeError",
     "evalue": "'>' not supported between instances of 'str' and 'int'",
     "output_type": "error",
     "traceback": [
      "\u001b[0;31m---------------------------------------------------------------------------\u001b[0m",
      "\u001b[0;31mTypeError\u001b[0m                                 Traceback (most recent call last)",
      "Cell \u001b[0;32mIn[41], line 1\u001b[0m\n\u001b[0;32m----> 1\u001b[0m patient_record[\u001b[38;5;124m'\u001b[39m\u001b[38;5;124mage\u001b[39m\u001b[38;5;124m'\u001b[39m] \u001b[38;5;241m>\u001b[39m \u001b[38;5;241m45\u001b[39m\n",
      "\u001b[0;31mTypeError\u001b[0m: '>' not supported between instances of 'str' and 'int'"
     ]
    }
   ],
   "source": [
    "\n",
    "patient_record['age'] > 45  # This fails!"
   ]
  },
  {
   "cell_type": "markdown",
   "id": "d7819c7c",
   "metadata": {},
   "source": [
    "### The Root Problem: Ambiguity\n",
    "\n",
    "The instruction \"put the patient's age here\" allows multiple valid interpretations:\n",
    "- `47` (integer)\n",
    "- `\"47\"` (string)\n",
    "- `\"47 years old\"` (descriptive string)\n",
    "- `\"47 y/o\"` (abbreviated string)\n",
    "\n",
    "Each interpretation seems reasonable to the LLM, but only one works with downstream systems expecting an integer value. The Solution for this is using an explicit library to vaidate data. So, rather than trusting LLMs to interpret requirements correctly, we need a mechanism to:\n",
    "1. Define exact data structures with explicit types, i.e., being explicit and precise about the expected output\n",
    "2. Validate LLM outputs against these structures\n",
    "3. Provide clear feedback when outputs don't match requirements\n",
    "4. Enable iterative refinement until outputs conform\n",
    "\n",
    "Pydantic excels at these tasks. As Python's most widely-used data validation library (https://pydantic-docs.helpmanual.io/), Pydantic creates data models that define both structure and data types for expected outputs.\n",
    "\n",
    "### Defining Pydantic Models\n",
    "\n",
    "Consider a student information system requiring:\n",
    "- `first_name`: string value\n",
    "- `last_name`: string value  \n",
    "- `age`: integer value\n",
    "- `major`: restricted to \"Computer Science\", \"Mathematics\", or \"Nursing\"\n",
    "- `email`: properly formatted email address\n",
    "\n",
    "Valid data would look like:\n",
    "```python\n",
    "{\n",
    "    'first_name': 'John',\n",
    "    'last_name': 'Doe',\n",
    "    'age': 27,\n",
    "    'major': 'Computer Science',\n",
    "    'email': 'john.doe@hawaii.edu'\n",
    "}\n",
    "```\n",
    "\n",
    "Invalid examples include:\n",
    "```python\n",
    "# Invalid: abbreviated major\n",
    "{\n",
    "    'first_name': 'John',\n",
    "    'last_name': 'Doe', \n",
    "    'age': 27,\n",
    "    'major': 'Comp Sci.',  # Not in allowed values\n",
    "    'email': 'john.doe@hawaii.edu'\n",
    "}\n",
    "\n",
    "# Invalid: wrong major and malformed email\n",
    "{\n",
    "    'first_name': 'John',\n",
    "    'last_name': 'Doe',\n",
    "    'age': 27,\n",
    "    'major': 'Business',  # Not an allowed major\n",
    "    'email': 'john.doe@'  # Invalid email format\n",
    "}\n",
    "```\n",
    "\n",
    "### Installing and Using Pydantic\n",
    "\n",
    "Install Pydantic using pip:\n",
    "```bash\n",
    "pip install pydantic\n",
    "```\n",
    "\n",
    "Then define the data model:\n",
    "\n"
   ]
  },
  {
   "cell_type": "code",
   "execution_count": null,
   "id": "5fe4cbb0",
   "metadata": {},
   "outputs": [],
   "source": [
    "from pydantic import BaseModel, EmailStr\n",
    "from typing import Literal\n",
    "\n",
    "class StudentInfo(BaseModel):\n",
    "    first_name: str\n",
    "    last_name: str\n",
    "    age: int\n",
    "    major: Literal[\"Computer Science\", \"Mathematics\", \"Nursing\"]\n",
    "    email: EmailStr"
   ]
  },
  {
   "cell_type": "markdown",
   "id": "58765e4c",
   "metadata": {},
   "source": [
    "The syntax used here will be covered in more detail in the object-oriented programming section, but suffice it to say that the `StudentInfo` class defined here is a `BaseModel`, Pydantic's foundational class. By being a subclass of `BaseModel`, `StudentInfo` inherits—or automatically acquires—built-in validation capabilities.\n",
    "\n",
    "Each line in within the class defines a field with its expected type:\n",
    "\n",
    "- `first_name: str` - Accepts any text string for the student's first name\n",
    "- `last_name: str` - Accepts any text string for the student's last name\n",
    "- `age: int` - Requires an integer value (whole number) for age\n",
    "- `major: Literal[...]` - Restricts input to exactly one of the three specified strings. Any other value, even slight variations like \"computer science\" (lowercase) or \"Math\" (abbreviated), will be rejected\n",
    "- `email: EmailStr` - Validates that the input follows standard email formatting rules (contains @ symbol, has valid domain structure, etc.)\n",
    "\n",
    "When data is provided to this model, Pydantic automatically:\n",
    "\n",
    "1. Checks that all required fields are present\n",
    "2. Validates that each field's value matches its specified type\n",
    "3. Converts compatible values when possible (e.g., the string \"27\" to integer 27)\n",
    "4. Raises clear error messages for any validation failures\n",
    "\n",
    "For instance, we can pass the data directly to the the class and see it \"construct\" and object of type info if the data is valid or return an error if the data is no vlaid. For exmaple the following passes muster"
   ]
  },
  {
   "cell_type": "markdown",
   "id": "f0faa7b3",
   "metadata": {},
   "source": [
    "## Working with Pydantic Objects\n",
    "\n",
    "When constructing a Pydantic object, the data dictionary must be unpacked using the `**` operator:\n",
    "\n",
    "```python\n",
    "data = {\n",
    "    'first_name': 'John',\n",
    "    'last_name': 'Doe',\n",
    "    'age': 27,\n",
    "    'major': 'Computer Science',\n",
    "    'email': 'john.doe@hawaii.edu'\n",
    "}\n",
    "student_data = StudentInfo(**data)\n",
    "```\n",
    "\n",
    "The `**data` syntax deserves special attention. This double-asterisk operator simply means that we need to pass the data contained in the dictionary, rather that the dictionary itself, i.e., without it, Python would pass the entire dictionary as a single argument, causing an error. The \"unpacking\" operation transforms `{'first_name': 'John', 'last_name': 'Doe', ...}` into the equivalent of writing `StudentInfo(first_name='John', last_name='Doe', ...)`. This concept will be explored in greater detail in later chapters on Python functions and arguments.\n",
    "\n",
    "The constructed object displays as:\n",
    "```\n",
    "StudentInfo(first_name='John', last_name='Doe', age=27, major='Computer Science', email='john.doe@hawaii.edu')\n",
    "```"
   ]
  },
  {
   "cell_type": "code",
   "execution_count": null,
   "id": "8e3efb88",
   "metadata": {},
   "outputs": [
    {
     "ename": "TypeError",
     "evalue": "BaseModel.__init__() takes 1 positional argument but 2 were given",
     "output_type": "error",
     "traceback": [
      "\u001b[0;31m---------------------------------------------------------------------------\u001b[0m",
      "\u001b[0;31mTypeError\u001b[0m                                 Traceback (most recent call last)",
      "Cell \u001b[0;32mIn[129], line 2\u001b[0m\n\u001b[1;32m      1\u001b[0m \u001b[38;5;66;03m# this yields an error\u001b[39;00m\n\u001b[0;32m----> 2\u001b[0m StudentInfo({\u001b[38;5;124m\"\u001b[39m\u001b[38;5;124mfirst_name\u001b[39m\u001b[38;5;124m\"\u001b[39m: \u001b[38;5;124m'\u001b[39m\u001b[38;5;124mJohn\u001b[39m\u001b[38;5;124m'\u001b[39m, \u001b[38;5;124m\"\u001b[39m\u001b[38;5;124mlast_name\u001b[39m\u001b[38;5;124m\"\u001b[39m: \u001b[38;5;124m'\u001b[39m\u001b[38;5;124mDoe\u001b[39m\u001b[38;5;124m'\u001b[39m, \u001b[38;5;124m\"\u001b[39m\u001b[38;5;124mage\u001b[39m\u001b[38;5;124m\"\u001b[39m: \u001b[38;5;241m27\u001b[39m, \u001b[38;5;124m\"\u001b[39m\u001b[38;5;124mmajor\u001b[39m\u001b[38;5;124m\"\u001b[39m: \u001b[38;5;124m'\u001b[39m\u001b[38;5;124mComputer Science\u001b[39m\u001b[38;5;124m'\u001b[39m, \u001b[38;5;124m\"\u001b[39m\u001b[38;5;124memail\u001b[39m\u001b[38;5;124m\"\u001b[39m: \u001b[38;5;124m'\u001b[39m\u001b[38;5;124mjohn.doe@hawaii.edu\u001b[39m\u001b[38;5;124m'\u001b[39m})\n",
      "\u001b[0;31mTypeError\u001b[0m: BaseModel.__init__() takes 1 positional argument but 2 were given"
     ]
    }
   ],
   "source": [
    "# this yields an error\n",
    "StudentInfo({\"first_name\": 'John', \"last_name\": 'Doe', \"age\": 27, \"major\": 'Computer Science', \"email\": 'john.doe@hawaii.edu'})"
   ]
  },
  {
   "cell_type": "code",
   "execution_count": null,
   "id": "6f215acf",
   "metadata": {},
   "outputs": [
    {
     "data": {
      "text/plain": [
       "StudentInfo(first_name='John', last_name='Doe', age=27, major='Computer Science', email='john.doe@hawaii.edu')"
      ]
     },
     "execution_count": 130,
     "metadata": {},
     "output_type": "execute_result"
    }
   ],
   "source": [
    "# while this unpacking operation works\n",
    "StudentInfo(**{\"first_name\": 'John', \"last_name\": 'Doe', \"age\": 27, \"major\": 'Computer Science', \"email\": 'john.doe@hawaii.edu'})"
   ]
  },
  {
   "cell_type": "code",
   "execution_count": 131,
   "id": "d2529744",
   "metadata": {},
   "outputs": [
    {
     "data": {
      "text/plain": [
       "StudentInfo(first_name='John', last_name='Doe', age=27, major='Computer Science', email='john.doe@hawaii.edu')"
      ]
     },
     "execution_count": 131,
     "metadata": {},
     "output_type": "execute_result"
    }
   ],
   "source": [
    "# the unpacking operation is equivalent to\n",
    "StudentInfo(first_name='John', last_name='Doe', age=27, major='Computer Science', email='john.doe@hawaii.edu')"
   ]
  },
  {
   "cell_type": "markdown",
   "id": "19074e43",
   "metadata": {},
   "source": [
    "Let's assign the new object to a new varaible"
   ]
  },
  {
   "cell_type": "code",
   "execution_count": null,
   "id": "3a3c23c5",
   "metadata": {},
   "outputs": [],
   "source": [
    "student_data = StudentInfo(first_name='John', last_name='Doe', age=27, major='Computer Science', email='john.doe@hawaii.edu')"
   ]
  },
  {
   "cell_type": "markdown",
   "id": "42b1c7a8",
   "metadata": {},
   "source": [
    "Pydantic models provide multiple ways to access stored data. The dot notation offers direct field access:"
   ]
  },
  {
   "cell_type": "code",
   "execution_count": 133,
   "id": "3ad3b27a",
   "metadata": {},
   "outputs": [
    {
     "data": {
      "text/plain": [
       "'John'"
      ]
     },
     "execution_count": 133,
     "metadata": {},
     "output_type": "execute_result"
    }
   ],
   "source": [
    "student_data.first_name"
   ]
  },
  {
   "cell_type": "code",
   "execution_count": null,
   "id": "21133ec6",
   "metadata": {},
   "outputs": [
    {
     "data": {
      "text/plain": [
       "'john.doe@hawaii.edu'"
      ]
     },
     "execution_count": 134,
     "metadata": {},
     "output_type": "execute_result"
    }
   ],
   "source": [
    "student_data.email"
   ]
  },
  {
   "cell_type": "markdown",
   "id": "1af5e8ea",
   "metadata": {},
   "source": [
    "To retrieve all data as a dictionary, use the `model_dump()` method:"
   ]
  },
  {
   "cell_type": "code",
   "execution_count": 135,
   "id": "17ec969c",
   "metadata": {},
   "outputs": [
    {
     "data": {
      "text/plain": [
       "{'first_name': 'John',\n",
       " 'last_name': 'Doe',\n",
       " 'age': 27,\n",
       " 'major': 'Computer Science',\n",
       " 'email': 'john.doe@hawaii.edu'}"
      ]
     },
     "execution_count": 135,
     "metadata": {},
     "output_type": "execute_result"
    }
   ],
   "source": [
    "student_data.model_dump()"
   ]
  },
  {
   "cell_type": "markdown",
   "id": "f4c46788",
   "metadata": {},
   "source": [
    "### Validation in Action\n",
    "\n",
    "Pydantic enforces validation rules strictly. Invalid data triggers clear, informative error messages:\n"
   ]
  },
  {
   "cell_type": "code",
   "execution_count": 137,
   "id": "9b8a9dca",
   "metadata": {},
   "outputs": [
    {
     "ename": "ValidationError",
     "evalue": "1 validation error for StudentInfo\nmajor\n  Input should be 'Computer Science', 'Mathematics' or 'Nursing' [type=literal_error, input_value='Comp Sci.', input_type=str]\n    For further information visit https://errors.pydantic.dev/2.11/v/literal_error",
     "output_type": "error",
     "traceback": [
      "\u001b[0;31m---------------------------------------------------------------------------\u001b[0m",
      "\u001b[0;31mValidationError\u001b[0m                           Traceback (most recent call last)",
      "Cell \u001b[0;32mIn[137], line 9\u001b[0m\n\u001b[1;32m      1\u001b[0m data \u001b[38;5;241m=\u001b[39m {\n\u001b[1;32m      2\u001b[0m     \u001b[38;5;124m'\u001b[39m\u001b[38;5;124mfirst_name\u001b[39m\u001b[38;5;124m'\u001b[39m: \u001b[38;5;124m'\u001b[39m\u001b[38;5;124mJohn\u001b[39m\u001b[38;5;124m'\u001b[39m,\n\u001b[1;32m      3\u001b[0m     \u001b[38;5;124m'\u001b[39m\u001b[38;5;124mlast_name\u001b[39m\u001b[38;5;124m'\u001b[39m: \u001b[38;5;124m'\u001b[39m\u001b[38;5;124mDoe\u001b[39m\u001b[38;5;124m'\u001b[39m, \n\u001b[0;32m   (...)\u001b[0m\n\u001b[1;32m      6\u001b[0m     \u001b[38;5;124m'\u001b[39m\u001b[38;5;124memail\u001b[39m\u001b[38;5;124m'\u001b[39m: \u001b[38;5;124m'\u001b[39m\u001b[38;5;124mjohn.doe@hawaii.edu\u001b[39m\u001b[38;5;124m'\u001b[39m\n\u001b[1;32m      7\u001b[0m }\n\u001b[0;32m----> 9\u001b[0m student_data \u001b[38;5;241m=\u001b[39m StudentInfo(\u001b[38;5;241m*\u001b[39m\u001b[38;5;241m*\u001b[39mdata)\n",
      "File \u001b[0;32m~/miniconda3/envs/py3.12/lib/python3.12/site-packages/pydantic/main.py:253\u001b[0m, in \u001b[0;36mBaseModel.__init__\u001b[0;34m(self, **data)\u001b[0m\n\u001b[1;32m    251\u001b[0m \u001b[38;5;66;03m# `__tracebackhide__` tells pytest and some other tools to omit this function from tracebacks\u001b[39;00m\n\u001b[1;32m    252\u001b[0m __tracebackhide__ \u001b[38;5;241m=\u001b[39m \u001b[38;5;28;01mTrue\u001b[39;00m\n\u001b[0;32m--> 253\u001b[0m validated_self \u001b[38;5;241m=\u001b[39m \u001b[38;5;28mself\u001b[39m\u001b[38;5;241m.\u001b[39m__pydantic_validator__\u001b[38;5;241m.\u001b[39mvalidate_python(data, self_instance\u001b[38;5;241m=\u001b[39m\u001b[38;5;28mself\u001b[39m)\n\u001b[1;32m    254\u001b[0m \u001b[38;5;28;01mif\u001b[39;00m \u001b[38;5;28mself\u001b[39m \u001b[38;5;129;01mis\u001b[39;00m \u001b[38;5;129;01mnot\u001b[39;00m validated_self:\n\u001b[1;32m    255\u001b[0m     warnings\u001b[38;5;241m.\u001b[39mwarn(\n\u001b[1;32m    256\u001b[0m         \u001b[38;5;124m'\u001b[39m\u001b[38;5;124mA custom validator is returning a value other than `self`.\u001b[39m\u001b[38;5;130;01m\\n\u001b[39;00m\u001b[38;5;124m'\u001b[39m\n\u001b[1;32m    257\u001b[0m         \u001b[38;5;124m\"\u001b[39m\u001b[38;5;124mReturning anything other than `self` from a top level model validator isn\u001b[39m\u001b[38;5;124m'\u001b[39m\u001b[38;5;124mt supported when validating via `__init__`.\u001b[39m\u001b[38;5;130;01m\\n\u001b[39;00m\u001b[38;5;124m\"\u001b[39m\n\u001b[1;32m    258\u001b[0m         \u001b[38;5;124m'\u001b[39m\u001b[38;5;124mSee the `model_validator` docs (https://docs.pydantic.dev/latest/concepts/validators/#model-validators) for more details.\u001b[39m\u001b[38;5;124m'\u001b[39m,\n\u001b[1;32m    259\u001b[0m         stacklevel\u001b[38;5;241m=\u001b[39m\u001b[38;5;241m2\u001b[39m,\n\u001b[1;32m    260\u001b[0m     )\n",
      "\u001b[0;31mValidationError\u001b[0m: 1 validation error for StudentInfo\nmajor\n  Input should be 'Computer Science', 'Mathematics' or 'Nursing' [type=literal_error, input_value='Comp Sci.', input_type=str]\n    For further information visit https://errors.pydantic.dev/2.11/v/literal_error"
     ]
    }
   ],
   "source": [
    "data = {\n",
    "    'first_name': 'John',\n",
    "    'last_name': 'Doe', \n",
    "    'age': 27,\n",
    "    'major': 'Comp Sci.',  # Not in allowed values\n",
    "    'email': 'john.doe@hawaii.edu'\n",
    "}\n",
    "\n",
    "student_data = StudentInfo(**data)\n"
   ]
  },
  {
   "cell_type": "markdown",
   "id": "8840c8c5",
   "metadata": {},
   "source": [
    "This produces a `ValidationError`:\n",
    "```\n",
    "ValidationError: 1 validation error for StudentInfo\n",
    "major\n",
    "  Input should be 'Computer Science', 'Mathematics' or 'Nursing' \n",
    "  [type=literal_error, input_value='Comp Sci.', input_type=str]\n",
    "```\n",
    "\n",
    "The error message precisely identifies the problematic field (`major`) and explains why the value was rejected. Similarly, invalid email formats trigger validation errors:\n"
   ]
  },
  {
   "cell_type": "code",
   "execution_count": 138,
   "id": "867fd49d",
   "metadata": {},
   "outputs": [
    {
     "ename": "ValidationError",
     "evalue": "2 validation errors for StudentInfo\nmajor\n  Input should be 'Computer Science', 'Mathematics' or 'Nursing' [type=literal_error, input_value='Marine Sciences', input_type=str]\n    For further information visit https://errors.pydantic.dev/2.11/v/literal_error\nemail\n  value is not a valid email address: There must be something after the @-sign. [type=value_error, input_value='john.doe@', input_type=str]",
     "output_type": "error",
     "traceback": [
      "\u001b[0;31m---------------------------------------------------------------------------\u001b[0m",
      "\u001b[0;31mValidationError\u001b[0m                           Traceback (most recent call last)",
      "Cell \u001b[0;32mIn[138], line 8\u001b[0m\n\u001b[1;32m      1\u001b[0m data \u001b[38;5;241m=\u001b[39m {\n\u001b[1;32m      2\u001b[0m     \u001b[38;5;124m'\u001b[39m\u001b[38;5;124mfirst_name\u001b[39m\u001b[38;5;124m'\u001b[39m: \u001b[38;5;124m'\u001b[39m\u001b[38;5;124mJohn\u001b[39m\u001b[38;5;124m'\u001b[39m,\n\u001b[1;32m      3\u001b[0m     \u001b[38;5;124m'\u001b[39m\u001b[38;5;124mlast_name\u001b[39m\u001b[38;5;124m'\u001b[39m: \u001b[38;5;124m'\u001b[39m\u001b[38;5;124mDoe\u001b[39m\u001b[38;5;124m'\u001b[39m,\n\u001b[0;32m   (...)\u001b[0m\n\u001b[1;32m      6\u001b[0m     \u001b[38;5;124m'\u001b[39m\u001b[38;5;124memail\u001b[39m\u001b[38;5;124m'\u001b[39m: \u001b[38;5;124m'\u001b[39m\u001b[38;5;124mjohn.doe@\u001b[39m\u001b[38;5;124m'\u001b[39m  \u001b[38;5;66;03m# Invalid email format\u001b[39;00m\n\u001b[1;32m      7\u001b[0m }\n\u001b[0;32m----> 8\u001b[0m student_data \u001b[38;5;241m=\u001b[39m StudentInfo(\u001b[38;5;241m*\u001b[39m\u001b[38;5;241m*\u001b[39mdata)\n",
      "File \u001b[0;32m~/miniconda3/envs/py3.12/lib/python3.12/site-packages/pydantic/main.py:253\u001b[0m, in \u001b[0;36mBaseModel.__init__\u001b[0;34m(self, **data)\u001b[0m\n\u001b[1;32m    251\u001b[0m \u001b[38;5;66;03m# `__tracebackhide__` tells pytest and some other tools to omit this function from tracebacks\u001b[39;00m\n\u001b[1;32m    252\u001b[0m __tracebackhide__ \u001b[38;5;241m=\u001b[39m \u001b[38;5;28;01mTrue\u001b[39;00m\n\u001b[0;32m--> 253\u001b[0m validated_self \u001b[38;5;241m=\u001b[39m \u001b[38;5;28mself\u001b[39m\u001b[38;5;241m.\u001b[39m__pydantic_validator__\u001b[38;5;241m.\u001b[39mvalidate_python(data, self_instance\u001b[38;5;241m=\u001b[39m\u001b[38;5;28mself\u001b[39m)\n\u001b[1;32m    254\u001b[0m \u001b[38;5;28;01mif\u001b[39;00m \u001b[38;5;28mself\u001b[39m \u001b[38;5;129;01mis\u001b[39;00m \u001b[38;5;129;01mnot\u001b[39;00m validated_self:\n\u001b[1;32m    255\u001b[0m     warnings\u001b[38;5;241m.\u001b[39mwarn(\n\u001b[1;32m    256\u001b[0m         \u001b[38;5;124m'\u001b[39m\u001b[38;5;124mA custom validator is returning a value other than `self`.\u001b[39m\u001b[38;5;130;01m\\n\u001b[39;00m\u001b[38;5;124m'\u001b[39m\n\u001b[1;32m    257\u001b[0m         \u001b[38;5;124m\"\u001b[39m\u001b[38;5;124mReturning anything other than `self` from a top level model validator isn\u001b[39m\u001b[38;5;124m'\u001b[39m\u001b[38;5;124mt supported when validating via `__init__`.\u001b[39m\u001b[38;5;130;01m\\n\u001b[39;00m\u001b[38;5;124m\"\u001b[39m\n\u001b[1;32m    258\u001b[0m         \u001b[38;5;124m'\u001b[39m\u001b[38;5;124mSee the `model_validator` docs (https://docs.pydantic.dev/latest/concepts/validators/#model-validators) for more details.\u001b[39m\u001b[38;5;124m'\u001b[39m,\n\u001b[1;32m    259\u001b[0m         stacklevel\u001b[38;5;241m=\u001b[39m\u001b[38;5;241m2\u001b[39m,\n\u001b[1;32m    260\u001b[0m     )\n",
      "\u001b[0;31mValidationError\u001b[0m: 2 validation errors for StudentInfo\nmajor\n  Input should be 'Computer Science', 'Mathematics' or 'Nursing' [type=literal_error, input_value='Marine Sciences', input_type=str]\n    For further information visit https://errors.pydantic.dev/2.11/v/literal_error\nemail\n  value is not a valid email address: There must be something after the @-sign. [type=value_error, input_value='john.doe@', input_type=str]"
     ]
    }
   ],
   "source": [
    "data = {\n",
    "    'first_name': 'John',\n",
    "    'last_name': 'Doe',\n",
    "    'age': 27,\n",
    "    'major': 'Marine Sciences',  # Not an allowed major\n",
    "    'email': 'john.doe@'  # Invalid email format\n",
    "}\n",
    "student_data = StudentInfo(**data)\n"
   ]
  },
  {
   "cell_type": "markdown",
   "id": "658bedfb",
   "metadata": {},
   "source": [
    "### Advanced Validation Capabilities\n",
    "\n",
    "Pydantic extends far beyond basic type checking. The library includes specialized validators for common data types (dates, URLs, IP addresses, credit card numbers) and supports custom validation logic. Developers can implement constraints such as:\n",
    "- Age ranges (e.g., between 18 and 120)\n",
    "- Domain restrictions for email addresses (e.g., must end with \"@hawaii.edu\")\n",
    "- Conditional requirements (e.g., certain fields required only when others have specific values)\n",
    "- Complex business rules specific to the application domain\n",
    "\n",
    "### Machine-Readable Schemas\n",
    "\n",
    "One of Pydantic's most powerful features for LLM integration is its ability to generate JSON schemas—standardized descriptions of data structures that machines can interpret. The `model_json_schema()` method produces this representation:"
   ]
  },
  {
   "cell_type": "code",
   "execution_count": 139,
   "id": "67ef9fba",
   "metadata": {},
   "outputs": [
    {
     "data": {
      "text/plain": [
       "{'properties': {'first_name': {'title': 'First Name', 'type': 'string'},\n",
       "  'last_name': {'title': 'Last Name', 'type': 'string'},\n",
       "  'age': {'title': 'Age', 'type': 'integer'},\n",
       "  'major': {'enum': ['Computer Science', 'Mathematics', 'Nursing'],\n",
       "   'title': 'Major',\n",
       "   'type': 'string'},\n",
       "  'email': {'format': 'email', 'title': 'Email', 'type': 'string'}},\n",
       " 'required': ['first_name', 'last_name', 'age', 'major', 'email'],\n",
       " 'title': 'StudentInfo',\n",
       " 'type': 'object'}"
      ]
     },
     "execution_count": 139,
     "metadata": {},
     "output_type": "execute_result"
    }
   ],
   "source": [
    "StudentInfo.model_json_schema()"
   ]
  },
  {
   "cell_type": "markdown",
   "id": "15cb9ad0",
   "metadata": {},
   "source": [
    "While this format appears technical to human readers, it provides precise instructions that LLMs understand perfectly. The schema specifies:\n",
    "\n",
    "- The model has a a bunch of properties (e.g., first_name, last_name, etc.)\n",
    "- Each field's data type (`type`)\n",
    "- Which fields are mandatory (`required`)\n",
    "- Allowed values for restricted fields (`enum`)\n",
    "- Special formatting requirements (`format`)\n",
    "\n",
    "### Integrating Pydantic with LLMs\n",
    "\n",
    "The schema can be sent directly to an LLM API along with the data to be processed. Consider this practical example:\n"
   ]
  },
  {
   "cell_type": "code",
   "execution_count": 146,
   "id": "369eb5cc",
   "metadata": {},
   "outputs": [
    {
     "data": {
      "text/plain": [
       "{'id': 'chatcmpl-CCvfDLBfdA7iR88xr8Wx09NAtz16M',\n",
       " 'object': 'chat.completion',\n",
       " 'created': 1757197631,\n",
       " 'model': 'gpt-4o-2024-08-06',\n",
       " 'choices': [{'index': 0,\n",
       "   'message': {'role': 'assistant',\n",
       "    'content': 'Based on the schema provided and the information in the text, the JSON object would look like this:\\n\\n```json\\n{\\n  \"first_name\": \"Jason\",\\n  \"last_name\": \"Doe\",\\n  \"age\": 27,\\n  \"major\": \"Computer Science\",\\n  \"email\": \"jason27@hawaii.edu\"\\n}\\n```',\n",
       "    'refusal': None,\n",
       "    'annotations': []},\n",
       "   'logprobs': None,\n",
       "   'finish_reason': 'stop'}],\n",
       " 'usage': {'prompt_tokens': 211,\n",
       "  'completion_tokens': 71,\n",
       "  'total_tokens': 282,\n",
       "  'prompt_tokens_details': {'cached_tokens': 0, 'audio_tokens': 0},\n",
       "  'completion_tokens_details': {'reasoning_tokens': 0,\n",
       "   'audio_tokens': 0,\n",
       "   'accepted_prediction_tokens': 0,\n",
       "   'rejected_prediction_tokens': 0}},\n",
       " 'service_tier': 'default',\n",
       " 'system_fingerprint': 'fp_f33640a400'}"
      ]
     },
     "execution_count": 146,
     "metadata": {},
     "output_type": "execute_result"
    }
   ],
   "source": [
    "import requests\n",
    "\n",
    "url = \"https://api.openai.com/v1/chat/completions\"\n",
    "headers = {\n",
    "    \"Content-Type\": \"application/json\",\n",
    "    \"Authorization\": \"Bearer YOUR_API_KEY_HERE\"\n",
    "}\n",
    "\n",
    "data = {\n",
    "    \"model\": \"gpt-4o\",\n",
    "    \"messages\": [\n",
    "        {\n",
    "            \"role\": \"system\",\n",
    "            \"content\": \"You are a helpful assistant.\"\n",
    "        },\n",
    "        {\n",
    "            \"role\": \"user\",\n",
    "            \"content\": \"\"\"\n",
    "Consider the following text:\n",
    "\n",
    "Jason Doe is 27 years old. He is majoring in Computer Science \n",
    "and his email alias is jason27. The email domain is hawaii.edu.\n",
    "\n",
    "Please convert it to JSON object following this schema:\n",
    "\n",
    "{'properties': {'first_name': {'title': 'First Name', 'type': 'string'},\n",
    "  'last_name': {'title': 'Last Name', 'type': 'string'},\n",
    "  'age': {'title': 'Age', 'type': 'integer'},\n",
    "  'major': {'enum': ['Computer Science', 'Mathematics', 'Nursing'],\n",
    "   'title': 'Major',\n",
    "   'type': 'string'},\n",
    "  'email': {'format': 'email', 'title': 'Email', 'type': 'string'}},\n",
    " 'required': ['first_name', 'last_name', 'age', 'major', 'email'],\n",
    " 'title': 'StudentInfo',\n",
    " 'type': 'object'}\n",
    "\n",
    "\"\"\"\n",
    "        }\n",
    "    ]\n",
    "}\n",
    "\n",
    "response = requests.post(url, headers=headers, json=data)\n",
    "resp_data = response.json()\n",
    "resp_data"
   ]
  },
  {
   "cell_type": "code",
   "execution_count": 147,
   "id": "2779e181",
   "metadata": {},
   "outputs": [
    {
     "name": "stdout",
     "output_type": "stream",
     "text": [
      "Based on the schema provided and the information in the text, the JSON object would look like this:\n",
      "\n",
      "```json\n",
      "{\n",
      "  \"first_name\": \"Jason\",\n",
      "  \"last_name\": \"Doe\",\n",
      "  \"age\": 27,\n",
      "  \"major\": \"Computer Science\",\n",
      "  \"email\": \"jason27@hawaii.edu\"\n",
      "}\n",
      "```\n"
     ]
    }
   ],
   "source": [
    "print(resp_data['choices'][0]['message']['content'])"
   ]
  },
  {
   "cell_type": "markdown",
   "id": "e84e5cc7",
   "metadata": {},
   "source": [
    "Notice how the model correctly:\n",
    "\n",
    "- Extracted \"Jason\" as the first name from the full name \"Jason Doe\"\n",
    "- Converted the age to an integer\n",
    "- Matched \"majoring in Computer Science\" to the exact enum value\n",
    "- Assembled the email from separate components (alias + domain)\n",
    "\n",
    "However, despite understanding the schema, the LLM still embeds the JSON within explanatory text. This additional text prevents direct parsing and requires string manipulation to extract the JSON portion—a fragile approach prone to errors.\n",
    "\n",
    "\n",
    "### Constrained Generation: The Complete Solution\n",
    "\n",
    "Modern LLM APIs support \"constrained generation,\" forcing outputs to conform exactly to specified schemas without any extraneous text. This feature \"guarantees\" that responses can be parsed directly into Pydantic models.\n",
    "\n",
    "The implementation requires adding a `response_format` parameter to the API request:\n"
   ]
  },
  {
   "cell_type": "code",
   "execution_count": 149,
   "id": "6393735f",
   "metadata": {},
   "outputs": [
    {
     "data": {
      "text/plain": [
       "<Response [200]>"
      ]
     },
     "execution_count": 149,
     "metadata": {},
     "output_type": "execute_result"
    }
   ],
   "source": [
    "import requests\n",
    "import json\n",
    "\n",
    "my_student_url_schema = StudentInfo.model_json_schema()\n",
    "my_student_url_schema[\"additionalProperties\"] = False  # Prevent extra fields\n",
    "\n",
    "url = \"https://api.openai.com/v1/chat/completions\"\n",
    "headers = {\n",
    "    \"Content-Type\": \"application/json\",\n",
    "    \"Authorization\": \"Bearer YOUR_API_KEY\"\n",
    "}\n",
    "\n",
    "data = {\n",
    "    \"model\": \"gpt-4o\",\n",
    "    \"messages\": [\n",
    "        {\n",
    "            \"role\": \"system\",\n",
    "            \"content\": \"You are a helpful assistant.\"\n",
    "        },\n",
    "        {\n",
    "            \"role\": \"user\",\n",
    "            \"content\": \"\"\"\n",
    "Consider the following text:\n",
    "\n",
    "Jason Doe is 27 years old. He is majoring in Computer Science \n",
    "and his email alias is jason27. The email domain is hawaii.edu.\n",
    "\"\"\"\n",
    "        }\n",
    "    ],\n",
    "    \"response_format\": {\n",
    "        \"type\": \"json_schema\",\n",
    "        \"json_schema\": {\n",
    "            \"name\": \"student_info_extraction\",\n",
    "            \"strict\": True,  # Enforces strict schema adherence\n",
    "            \"schema\": my_student_url_schema\n",
    "        }\n",
    "    }\n",
    "}\n",
    "\n",
    "response = requests.post(url, headers=headers, json=data)\n",
    "response"
   ]
  },
  {
   "cell_type": "code",
   "execution_count": 150,
   "id": "715fb723",
   "metadata": {},
   "outputs": [
    {
     "name": "stdout",
     "output_type": "stream",
     "text": [
      "{\"first_name\":\"Jason\",\"last_name\":\"Doe\",\"age\":27,\"major\":\"Computer Science\",\"email\":\"jason27@hawaii.edu\"}\n"
     ]
    }
   ],
   "source": [
    "resp_data = response.json()\n",
    "print(resp_data['choices'][0]['message']['content'])"
   ]
  },
  {
   "cell_type": "markdown",
   "id": "84790677",
   "metadata": {},
   "source": [
    "The `response_format` parameter instructs the LLM to:\n",
    "- Output only valid JSON (`type: \"json_schema\"`)\n",
    "- Follow the provided schema exactly (`schema: schema`)\n",
    "- Reject any output that doesn't conform (`strict: True`)\n",
    "\n",
    "The constrained response contains pure JSON, but formatted as a string:\n",
    "```\n",
    "'{\"first_name\":\"Jason\",\"last_name\":\"Doe\",\"age\":27,\"major\":\"Computer Science\",\"email\":\"jason27@hawaii.edu\"}'\n",
    "```\n"
   ]
  },
  {
   "cell_type": "markdown",
   "id": "f7fa909c",
   "metadata": {
    "jp-MarkdownHeadingCollapsed": true
   },
   "source": [
    "{\"first_name\":\"Jason\",\"last_name\":\"Doe\",\"age\":27,\"major\":\"Computer Science\",\"email\":\"jason27@hawaii.edu\"}\n",
    "\n",
    "### Complete Integration Workflow\n",
    "\n",
    "With constrained generation, the entire process becomes seamless:\n",
    "\n",
    "```python\n",
    "# 1. Get the LLM response\n",
    "json_str = resp['choices'][0]['message']['content']\n",
    "print(json_str)\n",
    "# Output: {\"first_name\":\"Jason\",\"last_name\":\"Doe\",\"age\":27,\"major\":\"Computer Science\",\"email\":\"jason27@hawaii.edu\"}\n",
    "\n",
    "# 2. Parse the JSON string\n",
    "data = json.loads(json_str)\n",
    "# Result: Python dictionary with properly typed values\n",
    "\n",
    "# 3. Create the Pydantic model\n",
    "student_data = StudentInfo(**data)\n",
    "# Result: Validated StudentInfo object\n",
    "\n",
    "# 4. Access the data with confidence\n",
    "print(student_data.age)  # 27 (as integer)\n",
    "print(student_data.email)  # jason27@hawaii.edu (validated email)\n",
    "```\n",
    "\n",
    "This workflow guarantees:\n",
    "- No parsing errors from extraneous text\n",
    "- All data conforms to specified types\n",
    "- Invalid data is caught immediately\n",
    "- Downstream systems receive exactly the structure they expect\n"
   ]
  },
  {
   "cell_type": "markdown",
   "id": "0776f48d",
   "metadata": {},
   "source": [
    "### Practical Exercise\n",
    "\n",
    "Here you will convert unstructured text into validated data structures in a usecase that mirror a real-world scenario.\n",
    "\n",
    "Create a Pydantic model for medical notes and use it to structure doctor's observations through an LLM API. Consider the following doctor's note.\n",
    "\n",
    "\"47-year-old man with history of high blood pressure and type 2 diabetes presents with chest pain for 3 days. Pain radiates to left arm and jaw, worsens with exertion, improves with rest. Associated with shortness of breath, nausea, sweating. Exam: elevated blood pressure, fast heart rate, low oxygen. Lungs clear, no murmurs. Tests: elevated troponin, ECG shows ST depression in leads II, III, and aVF. Impression: Likely acute coronary syndrome. Consider unstable angina or non-ST elevation heart attack.\"\n",
    "\n",
    "### Step 1: Define the Pydantic Model\n",
    "\n",
    "Create a `MedicalNote` class that captures all the essential information from clinical notes. Your model should include:\n",
    "- Patient demographics (age, sex as two separate fields)\n",
    "- Medical history (list of conditions)\n",
    "- Primary symptom description\n",
    "- Associated list of symptoms\n",
    "- Examination findings\n",
    "- Test results\n",
    "- Clinical impression\n",
    "\n",
    "Refer to the Pydantic documentation at https://docs.pydantic.dev/latest/concepts/fields/ for available field types if needed."
   ]
  },
  {
   "cell_type": "code",
   "execution_count": null,
   "id": "5eb3b8fe",
   "metadata": {},
   "outputs": [],
   "source": [
    "from pydantic import BaseModel\n",
    "from typing import List, Literal\n",
    "\n",
    "# YOUR CODE HERE: Define the MedicalNote class\n",
    "class MedicalNote(BaseModel):\n",
    "    # Define all necessary fields with appropriate types\n",
    "    pass"
   ]
  },
  {
   "cell_type": "markdown",
   "id": "2ebec503",
   "metadata": {},
   "source": [
    "### Step 2: Generate the Schema\n",
    "\n",
    "Extract the JSON schema from your model:"
   ]
  },
  {
   "cell_type": "code",
   "execution_count": null,
   "id": "e71bf3fb",
   "metadata": {},
   "outputs": [],
   "source": [
    "# YOUR CODE HERE: Get and display the schema\n",
    "my_medical_note_schema[\"additionalProperties\"] = False = # Complete this line to add the schema.\n",
    "\n",
    "print(my_medical_note_schema)"
   ]
  },
  {
   "cell_type": "markdown",
   "id": "f31845c2",
   "metadata": {},
   "source": [
    "### Step 3: Send to LLM API\n",
    "\n",
    "Complete the API request to convert the doctor's note into structured data:"
   ]
  },
  {
   "cell_type": "code",
   "execution_count": null,
   "id": "701566da",
   "metadata": {},
   "outputs": [],
   "source": [
    "import requests\n",
    "import json\n",
    "\n",
    "# YOUR CODE HERE: Complete the API request\n",
    "url = \"https://api.openai.com/v1/chat/completions\"\n",
    "headers = {\n",
    "    \"Content-Type\": \"application/json\",\n",
    "    \"Authorization\": \"Bearer YOUR_API_KEY\"\n",
    "}\n",
    "\n",
    "doctor_note = \"\"\"\n",
    "47-year-old man with history of high blood pressure and type 2 diabetes \n",
    "presents with chest pain for 3 days. Pain radiates to left arm and jaw, \n",
    "worsens with exertion, improves with rest. Associated with shortness of \n",
    "breath, nausea, sweating. Exam: elevated blood pressure, fast heart rate, \n",
    "low oxygen. Lungs clear, no murmurs. Tests: elevated troponin, ECG shows \n",
    "ST depression in leads II, III, and aVF. Impression: Likely acute coronary \n",
    "syndrome. Consider unstable angina or non-ST elevation heart attack.\n",
    "\"\"\"\n",
    "\n",
    "data = {\n",
    "    # YOUR CODE HERE: Complete the request structure\n",
    "    # Include model, messages, and response_format\n",
    "}\n",
    "\n",
    "response = requests.post(url, headers=headers, json=data)"
   ]
  },
  {
   "cell_type": "markdown",
   "id": "a42d512c",
   "metadata": {},
   "source": [
    "### Step 4: Validate and Use the Result\n",
    "\n",
    "Parse the response and create a validated `MedicalNote` object:"
   ]
  },
  {
   "cell_type": "code",
   "execution_count": null,
   "id": "c4d32820",
   "metadata": {},
   "outputs": [],
   "source": [
    "# YOUR CODE HERE: Parse response and create validated object\n",
    "json_response = response.json()\n",
    "medical_data_str = # Extract the content\n",
    "medical_data_dict = # Parse the JSON string\n",
    "medical_note = # Create the MedicalNote object"
   ]
  },
  {
   "cell_type": "code",
   "execution_count": null,
   "id": "4422ff3b",
   "metadata": {},
   "outputs": [],
   "source": [
    "# Test your implementation\n",
    "print(f\"Patient age: {medical_note.age}\")\n",
    "print(f\"Number of symptoms: {len(medical_note.associated_symptoms)}\")\n",
    "print(f\"Clinical impression: {medical_note.impression}\")"
   ]
  }
 ],
 "metadata": {
  "kernelspec": {
   "display_name": "Python 3.12",
   "language": "python",
   "name": "py3.12"
  },
  "language_info": {
   "codemirror_mode": {
    "name": "ipython",
    "version": 3
   },
   "file_extension": ".py",
   "mimetype": "text/x-python",
   "name": "python",
   "nbconvert_exporter": "python",
   "pygments_lexer": "ipython3",
   "version": "3.12.9"
  }
 },
 "nbformat": 4,
 "nbformat_minor": 5
}
