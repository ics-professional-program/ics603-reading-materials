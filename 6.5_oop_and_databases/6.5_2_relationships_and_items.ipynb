{
 "cells": [
  {
   "cell_type": "markdown",
   "id": "7097216d-440b-41f7-b5d8-a1070ed19761",
   "metadata": {},
   "source": [
    "# Lesson 3: Relationships & Items\n",
    "\n",
    "## The Problem: Items on Receipts\n",
    "\n",
    "So far, our receipt system has a fundamental limitation: we can track the grand total, but we have no idea what was actually purchased. All the important details—the shampoo, the toothpaste, the gallon of milk—are invisible to our database.\n",
    "\n",
    "```python\n",
    "# We only know the total, not what was bought!\n",
    "receipt = Receipt(merchant=\"Target\", grand_total=49.67)\n",
    "# But what did we buy? We have no way to know!\n",
    "```\n",
    "\n",
    "This creates several problems. First, we can't itemize a receipt. Second, we can't verify that the grand total is correct. And third, we have no way to analyze purchasing patterns across multiple receipts. We need a better approach.\n",
    "\n",
    "## What We Actually Want\n",
    "\n",
    "What we really need is the ability to store individual items and associate them with receipts. Each receipt should contain a list of items, and we should be able to calculate the total from those items automatically.\n",
    "\n",
    "```python\n",
    "# This is what we want to do:\n",
    "receipt = Receipt(merchant=\"Target\")\n",
    "receipt.items.append(Item(name=\"Shampoo\", price=8.99))\n",
    "receipt.items.append(Item(name=\"Toothpaste\", price=5.49))\n",
    "receipt.items.append(Item(name=\"Milk\", price=4.29))\n",
    "receipt.calculate_total()  # Auto-calculate from items!\n",
    "```\n",
    "\n",
    "This tells us we need a new table to store items, where each item is linked to a specific receipt.\n",
    "\n",
    "## Creating the Item Class\n",
    "\n",
    "To make this work, we need to define an `Item` class that can connect to our `Receipt` class. Here's what that looks like:\n",
    "\n",
    "```python\n",
    "class Item(Base):\n",
    "    __tablename__ = 'items'\n",
    "    \n",
    "    id = Column(Integer, primary_key=True)\n",
    "    receipt_id = Column(Integer, ForeignKey('receipts.id'), nullable=False)\n",
    "    name = Column(String, nullable=False)\n",
    "    price = Column(Float, nullable=False)\n",
    "    quantity = Column(Integer, default=1)\n",
    "    \n",
    "    # Relationship: each item belongs to one receipt\n",
    "    receipt = relationship(\"Receipt\", back_populates=\"items\")\n",
    "    \n",
    "    def subtotal(self):\n",
    "        \"\"\"Calculate item subtotal\"\"\"\n",
    "        return self.price * self.quantity\n",
    "    \n",
    "    def __repr__(self):\n",
    "        return f\"Item({self.name}: ${self.price} x{self.quantity})\"\n",
    "```\n",
    "\n",
    "## Understanding the receipt_id\n",
    "\n",
    "Notice the `receipt_id` column in our `Item` class. This is crucial: it tells the database which receipt each item belongs to. Without it, we'd have a collection of orphaned items with no way to know which receipt they came from.\n",
    "\n",
    "Think of it like a filing system: each item needs a label saying \"I belong to receipt #42\" so we can group all the items from the same shopping trip together.\n",
    "\n",
    "```python\n",
    "# The receipt_id creates the connection:\n",
    "# Item 1: Shampoo    -> receipt_id = 5\n",
    "# Item 2: Toothpaste -> receipt_id = 5  \n",
    "# Item 3: Milk       -> receipt_id = 5\n",
    "# All three items belong to receipt #5\n",
    "```\n",
    "\n",
    "The `ForeignKey('receipts.id')` part tells SQLAlchemy: \"This number must match an actual receipt ID in the receipts table.\" This prevents us from accidentally creating items for receipts that don't exist.\n",
    "\n",
    "## What Does back_populates Mean?\n",
    "\n",
    "The `back_populates` parameter creates a two-way relationship between receipts and items. It means:\n",
    "\n",
    "- From an item, you can access `item.receipt` to get the receipt it belongs to\n",
    "- From a receipt, you can access `receipt.items` to get all items on that receipt\n",
    "\n",
    "```python\n",
    "# Going from item to receipt:\n",
    "milk = Item(name=\"Milk\", price=4.29)\n",
    "print(milk.receipt.merchant)  # Access the receipt from the item\n",
    "\n",
    "# Going from receipt to items:\n",
    "receipt = Receipt(merchant=\"Target\")\n",
    "for item in receipt.items:  # Access all items from the receipt\n",
    "    print(item.name)\n",
    "```\n",
    "\n",
    "Without `back_populates`, we'd only be able to navigate in one direction. The \"populates\" part means SQLAlchemy automatically keeps both sides of the relationship in sync—when you add an item to a receipt, the item's receipt reference is automatically set."
   ]
  },
  {
   "cell_type": "markdown",
   "id": "af3d5520-6b1b-40e3-b14a-44b8a1530060",
   "metadata": {},
   "source": [
    "## Understanding Relationships in Databases\n",
    "\n",
    "When we connect tables together—like linking items to receipts—we create relationships that introduce new complexities. Let's explore the problems that arise and the concepts we need to handle them.\n",
    "\n",
    "### The Orphan Problem\n",
    "\n",
    "Consider what happens when you delete a receipt from your database. You've removed the receipt record, but what about all the items that belonged to it? Those items are now orphaned as they reference a receipt that no longer exists. Your database now contains meaningless data: items pointing to receipt ID #42, but receipt #42 is gone.\n",
    "\n",
    "This creates several issues: the items waste storage space and they clutter your database with invalid data. This is called the **orphan record problem**, and it's one of the most common issues in relational databases.\n",
    "\n",
    "### Solution: Cascade Deletion\n",
    "\n",
    "To solve this, we need to tell the database: \"When I delete a receipt, automatically delete all items that belong to it.\" This is called **cascade deletion** or **cascade delete**. It creates a rule that deletions cascade down the relationship—deleting the parent automatically deletes the children.\n",
    "\n",
    "Without cascade delete, you'd need to manually find and delete all items before deleting the receipt:\n",
    "```python\n",
    "# Without cascade delete - tedious and error-prone:\n",
    "receipt = session.query(Receipt).get(5)\n",
    "for item in receipt.items:\n",
    "    session.delete(item)  # Delete each item manually\n",
    "session.delete(receipt)    # Then delete the receipt\n",
    "```\n",
    "\n",
    "With cascade delete configured, the database handles it automatically:\n",
    "```python\n",
    "# With cascade delete - clean and safe:\n",
    "receipt = session.query(Receipt).get(5)\n",
    "session.delete(receipt)  # Items are automatically deleted too\n",
    "```"
   ]
  },
  {
   "cell_type": "markdown",
   "id": "25ce66a1-ab12-4361-bfcb-9f28c7b155b4",
   "metadata": {},
   "source": [
    "### The Detachment Problem\n",
    "\n",
    "Here's another scenario: you're editing a receipt and you decide to remove an item from the receipt's item list, but you don't explicitly delete it. What should happen to that item?\n",
    "\n",
    "```python\n",
    "receipt = session.query(Receipt).get(5)\n",
    "milk = receipt.items[2]  # Get the third item\n",
    "receipt.items.remove(milk)  # Remove it from the list\n",
    "# Now what? The milk item still exists in the database, orphaned!\n",
    "```\n",
    "\n",
    "The item has been detached from its parent but still exists in the database. This creates the same orphan problem as before. The solution is **delete-orphan**, which tells the database: \"If an item is removed from its parent's collection, delete it from the database entirely.\" This ensures that items can't exist without a receipt."
   ]
  },
  {
   "cell_type": "markdown",
   "id": "390d3d7b-eab3-4869-b4df-faa9071a2cab",
   "metadata": {},
   "source": [
    "### Bidirectional Navigation\n",
    "\n",
    "When you create a relationship between receipts and items, you need to decide: can I navigate in both directions? Do I want to be able to:\n",
    "- Start with a receipt and access its items (`receipt.items`)\n",
    "- Start with an item and access its receipt (`item.receipt`)\n",
    "\n",
    "This is called a **bidirectional relationship**. To make this work, you need to set up the relationship on both sides and tell each side about the other. This is done through **back_populates**, which means \"this relationship corresponds to that relationship on the other class.\"\n",
    "\n",
    "```python\n",
    "# Bidirectional navigation:\n",
    "receipt = session.query(Receipt).get(5)\n",
    "first_item = receipt.items[0]  # Navigate from receipt to item\n",
    "parent_receipt = first_item.receipt  # Navigate back from item to receipt\n",
    "```\n",
    "\n",
    "Without back_populates, you could only navigate in one direction, making your code more cumbersome and queries more complex."
   ]
  },
  {
   "cell_type": "markdown",
   "id": "bdaf6df1-f5d5-47a1-b68f-a4d8ca083d33",
   "metadata": {},
   "source": [
    "### Foreign Keys: The Foundation\n",
    "\n",
    "None of these relationships work without a **foreign key**. A foreign key is a column in one table that stores the ID of a record in another table. In our case, each item has a `receipt_id` column that stores which receipt it belongs to.\n",
    "\n",
    "The foreign key serves two purposes: it creates the link between tables (allowing the database to know which items belong to which receipt), and it enforces referential integrity (preventing you from creating items that reference non-existent receipts).\n",
    "\n",
    "```python\n",
    "# The foreign key creates the connection:\n",
    "item = Item(name=\"Milk\", price=4.29, receipt_id=5)\n",
    "# This item now belongs to receipt #5\n",
    "```\n"
   ]
  },
  {
   "cell_type": "markdown",
   "id": "4568fca7-3430-4a1b-9105-27f4f5449580",
   "metadata": {},
   "source": [
    "\n",
    "\n",
    "\n",
    "### Example Prompts for LLMs\n",
    "\n",
    "Now that we've covered these concepts, here are example prompts you can use:\n",
    "\n",
    "**Basic relationship setup:**\n",
    "```\n",
    "Create two SQLAlchemy classes: Receipt and Item. Each receipt can have \n",
    "multiple items. Add a foreign key in Item that references Receipt. \n",
    "Make the relationship bidirectional using back_populates.\n",
    "```\n",
    "\n",
    "**Adding cascade deletion:**\n",
    "```\n",
    "When I delete a receipt, I want all its items to be automatically deleted. \n",
    "Add cascade delete to the relationship.\n",
    "```\n",
    "\n",
    "**Handling orphans:**\n",
    "```\n",
    "In my Receipt-Item relationship, if I remove an item from a receipt's \n",
    "item list, I want that item to be deleted from the database entirely. \n",
    "Add delete-orphan to prevent orphaned items.\n",
    "```\n",
    "\n",
    "**Complete setup:**\n",
    "```\n",
    "Create a Receipt and Item database model where:\n",
    "- One receipt has many items\n",
    "- Items have a foreign key linking to receipts\n",
    "- The relationship is bidirectional (I can navigate from receipt to items \n",
    "  and from item to receipt)\n",
    "- Deleting a receipt automatically deletes all its items\n",
    "- Removing an item from a receipt's list deletes it from the database\n",
    "```\n",
    "\n",
    "The key is understanding what problems you're solving, not just memorizing what to ask for. When you know these issues exist, you can describe them to the LLM in plain English and it will implement the technical solution."
   ]
  },
  {
   "cell_type": "code",
   "execution_count": null,
   "id": "a1184240-d089-4e85-8a99-685e300ed93c",
   "metadata": {},
   "outputs": [],
   "source": [
    "### Creating the Item Class\n",
    "from sqlalchemy import create_engine, Column, Integer, String, Float, Date, ForeignKey\n",
    "from sqlalchemy.orm import declarative_base\n",
    "from sqlalchemy.orm import sessionmaker, relationship\n",
    "from datetime import date\n",
    "\n",
    "engine = create_engine('sqlite:///receipts.db')\n",
    "Base = declarative_base()\n",
    "\n",
    "class Receipt(Base):\n",
    "    __tablename__ = 'receipts'\n",
    "    \n",
    "    id = Column(Integer, primary_key=True)\n",
    "    merchant = Column(String, nullable=False)\n",
    "    phone = Column(String)\n",
    "    total = Column(Float)\n",
    "    tax = Column(Float)\n",
    "    grand_total = Column(Float)\n",
    "    date = Column(Date, default=date.today)\n",
    "    \n",
    "    # Relationship: one receipt has many items\n",
    "    items = relationship(\"Item\", back_populates=\"receipt\", cascade=\"all, delete-orphan\")\n",
    "    \n",
    "    def calculate_total(self):\n",
    "        \"\"\"Calculate total from items\"\"\"\n",
    "        self.total = sum(item.price * item.quantity for item in self.items)\n",
    "        self.tax = self.total * 0.045  # 4.5% tax rate\n",
    "        self.grand_total = self.total + self.tax\n",
    "        return self.grand_total\n",
    "        \n",
    "    def __repr__(self):\n",
    "        return f\"Receipt #{self.id}: {self.merchant} - ${self.grand_total:.2f}\"\n",
    "\n",
    "class Item(Base):\n",
    "    __tablename__ = 'items'\n",
    "    \n",
    "    id = Column(Integer, primary_key=True)\n",
    "    receipt_id = Column(Integer, ForeignKey('receipts.id'), nullable=False)\n",
    "    name = Column(String, nullable=False)\n",
    "    price = Column(Float, nullable=False)\n",
    "    quantity = Column(Integer, default=1)\n",
    "    \n",
    "    # Relationship: each item belongs to one receipt\n",
    "    receipt = relationship(\"Receipt\", back_populates=\"items\")\n",
    "    \n",
    "    def subtotal(self):\n",
    "        \"\"\"Calculate item subtotal\"\"\"\n",
    "        return self.price * self.quantity\n",
    "    \n",
    "    def __repr__(self):\n",
    "        return f\"Item({self.name}: ${self.price} x{self.quantity})\"\n",
    "\n",
    "Base.metadata.create_all(engine)\n",
    "Session = sessionmaker(bind=engine)\n"
   ]
  },
  {
   "cell_type": "markdown",
   "id": "bb9fa617-a6ba-43e8-a5b5-748fdbd3ffc5",
   "metadata": {},
   "source": [
    "### Working with Related Objects\n",
    "\n",
    "**Creating Receipt with Items:**\n"
   ]
  },
  {
   "cell_type": "code",
   "execution_count": null,
   "id": "88ce11ab-470f-4ddd-8b4f-7b3f6fbdbb70",
   "metadata": {},
   "outputs": [],
   "source": [
    "session = Session()"
   ]
  },
  {
   "cell_type": "code",
   "execution_count": null,
   "id": "a0e3ea9f-3cbf-480f-9455-87fd68d5cb85",
   "metadata": {},
   "outputs": [],
   "source": [
    "receipt = Receipt(merchant=\"Target\", phone=\"555-0200\")\n"
   ]
  },
  {
   "cell_type": "code",
   "execution_count": null,
   "id": "6e74bf73-fcb6-49f9-9ceb-b1c60fdbc6cf",
   "metadata": {},
   "outputs": [],
   "source": [
    "receipt.items.append(Item(name=\"Shampoo\", price=8.99, quantity=1))\n",
    "receipt.items.append(Item(name=\"Toothpaste\", price=5.49, quantity=1))\n",
    "receipt.items.append(Item(name=\"Milk\", price=4.29, quantity=1))\n",
    "receipt.items.append(Item(name=\"Bread\", price=3.50, quantity=1))\n"
   ]
  },
  {
   "cell_type": "code",
   "execution_count": null,
   "id": "edcff404-dfd6-4b07-bec2-abdf9e862049",
   "metadata": {},
   "outputs": [],
   "source": [
    "session.add(receipt)\n"
   ]
  },
  {
   "cell_type": "code",
   "execution_count": null,
   "id": "744d81b6-1043-4f5a-a3cc-fd755c2e9604",
   "metadata": {},
   "outputs": [],
   "source": [
    "receipt.calculate_total()\n",
    "session.commit()\n"
   ]
  },
  {
   "cell_type": "code",
   "execution_count": null,
   "id": "3cc9009a-aa8a-443b-abb1-ba72d4eca3e6",
   "metadata": {},
   "outputs": [],
   "source": [
    "receipt.calculate_total()"
   ]
  },
  {
   "cell_type": "code",
   "execution_count": null,
   "id": "ad2d7e0e-5a0a-446c-b41b-b14106a98c55",
   "metadata": {},
   "outputs": [],
   "source": [
    "(3.50 + 4.29 + 5.49 + 8.99) * 1.045"
   ]
  },
  {
   "cell_type": "markdown",
   "id": "d05b9cfa-3e1d-4daa-a387-fcc06867daab",
   "metadata": {},
   "source": [
    "## Querying with Relationships\n",
    "\n",
    "Now that we have receipts connected to items, we can ask much more interesting questions. Let's create some sample data to work with.\n"
   ]
  },
  {
   "cell_type": "code",
   "execution_count": null,
   "id": "0d151378-fd5a-49b6-b553-c7796a8d0230",
   "metadata": {},
   "outputs": [],
   "source": [
    "from sqlalchemy import func\n",
    "\n",
    "session = Session()\n",
    "\n",
    "# Safeway receipt - mostly dairy\n",
    "safeway1 = Receipt(merchant=\"Safeway\", phone=\"555-0100\")\n",
    "safeway1.items.append(Item(name=\"Milk\", price=4.29, quantity=2))\n",
    "safeway1.items.append(Item(name=\"Cheese\", price=6.99, quantity=1))\n",
    "safeway1.items.append(Item(name=\"Yogurt\", price=5.49, quantity=3))\n",
    "safeway1.items.append(Item(name=\"Bread\", price=3.50, quantity=1))\n",
    "safeway1.calculate_total()\n"
   ]
  },
  {
   "cell_type": "code",
   "execution_count": null,
   "id": "d53b9f7f-edf0-449a-a860-6ccc99728685",
   "metadata": {},
   "outputs": [],
   "source": [
    "# Another Safeway receipt\n",
    "safeway2 = Receipt(merchant=\"Safeway\", phone=\"555-0100\")\n",
    "safeway2.items.append(Item(name=\"Milk\", price=4.29, quantity=1))\n",
    "safeway2.items.append(Item(name=\"Eggs\", price=4.99, quantity=1))\n",
    "safeway2.items.append(Item(name=\"Butter\", price=5.29, quantity=1))\n",
    "safeway2.calculate_total()\n"
   ]
  },
  {
   "cell_type": "code",
   "execution_count": null,
   "id": "aa45ef09-b653-44db-9d3f-eb43b7b3aec3",
   "metadata": {},
   "outputs": [],
   "source": [
    "# Target receipt - no dairy\n",
    "target = Receipt(merchant=\"Target\", phone=\"555-0200\")\n",
    "target.items.append(Item(name=\"Shampoo\", price=8.99, quantity=1))\n",
    "target.items.append(Item(name=\"Toothpaste\", price=5.49, quantity=1))\n",
    "target.items.append(Item(name=\"Paper Towels\", price=12.99, quantity=2))\n",
    "target.calculate_total()\n"
   ]
  },
  {
   "cell_type": "code",
   "execution_count": null,
   "id": "e9dd4028-b017-4f51-8782-e70adc01ac35",
   "metadata": {},
   "outputs": [],
   "source": [
    "# Trader Joe's - mixed items\n",
    "traderjoes = Receipt(merchant=\"Trader Joe's\", phone=\"555-0300\")\n",
    "traderjoes.items.append(Item(name=\"Cheese\", price=4.99, quantity=2))\n",
    "traderjoes.items.append(Item(name=\"Wine\", price=8.99, quantity=1))\n",
    "traderjoes.items.append(Item(name=\"Crackers\", price=3.99, quantity=1))\n",
    "traderjoes.calculate_total()"
   ]
  },
  {
   "cell_type": "code",
   "execution_count": null,
   "id": "f4004ee9-fbfa-4903-9bac-646a9b55f212",
   "metadata": {},
   "outputs": [],
   "source": [
    "session.add_all([safeway1, safeway2, target, traderjoes])\n",
    "session.commit()\n"
   ]
  },
  {
   "cell_type": "markdown",
   "id": "7766e382-8c69-4ee2-9ea7-7912c69cecfc",
   "metadata": {},
   "source": [
    "Relationships let us ask questions that span multiple tables. Without joins, we'd be stuck querying each table separately and manually connecting the results. With joins, the database does the hard work of combining related data, and we can filter, aggregate, and analyze across our entire dataset."
   ]
  },
  {
   "cell_type": "code",
   "execution_count": null,
   "id": "c17568ad-94dc-419a-806e-d1d1dacacaae",
   "metadata": {},
   "outputs": [],
   "source": [
    "session.query(Receipt).count()"
   ]
  },
  {
   "cell_type": "code",
   "execution_count": null,
   "id": "286bb1ed-e6d7-469e-a24c-e9f28b1d1426",
   "metadata": {},
   "outputs": [],
   "source": [
    "session.query(Receipt).all()"
   ]
  },
  {
   "cell_type": "code",
   "execution_count": null,
   "id": "613f4c6d-b2ba-4a48-93cf-929ec3c3af04",
   "metadata": {},
   "outputs": [],
   "source": [
    "session.query(Item).count()"
   ]
  },
  {
   "cell_type": "code",
   "execution_count": null,
   "id": "7d26ff31-1069-4a0b-9176-b4858f5997e4",
   "metadata": {},
   "outputs": [],
   "source": [
    "session.query(Item).all()"
   ]
  },
  {
   "cell_type": "code",
   "execution_count": null,
   "id": "06d476aa-8903-4e1c-853e-6b15a6261f9c",
   "metadata": {},
   "outputs": [],
   "source": [
    "rec = session.get(Receipt, 1)\n",
    "rec"
   ]
  },
  {
   "cell_type": "code",
   "execution_count": null,
   "id": "f206c4ba-2c39-47c8-b5a7-70cf77e8c64d",
   "metadata": {},
   "outputs": [],
   "source": [
    "item_1_receipt_1 = rec.items[0]"
   ]
  },
  {
   "cell_type": "code",
   "execution_count": null,
   "id": "009bdbb8-cfa3-4f9c-aefb-c2dc9f755a5b",
   "metadata": {},
   "outputs": [],
   "source": [
    "item_1_receipt_1"
   ]
  },
  {
   "cell_type": "code",
   "execution_count": null,
   "id": "c319bb5c-6a1c-47a7-b739-c50668efddbd",
   "metadata": {},
   "outputs": [],
   "source": [
    "item_1_receipt_1.receipt"
   ]
  },
  {
   "cell_type": "code",
   "execution_count": null,
   "id": "c4e4a872-dd44-433f-9b10-2e1298ee7a6a",
   "metadata": {},
   "outputs": [],
   "source": [
    "rec.items.remove(item_1_receipt_1)"
   ]
  },
  {
   "cell_type": "code",
   "execution_count": null,
   "id": "3ec2cbd0-44a6-46f7-a1b7-81bed5b31be5",
   "metadata": {},
   "outputs": [],
   "source": [
    "rec.items"
   ]
  },
  {
   "cell_type": "code",
   "execution_count": null,
   "id": "294b5a2f-ebfe-40fb-8bd3-fa157c606739",
   "metadata": {},
   "outputs": [],
   "source": [
    "### Basic Relationship Queries\n",
    "\n",
    "The simplest way to use relationships is to navigate from one object to its related objects. We already have the connection established—we just need to follow it.\n"
   ]
  },
  {
   "cell_type": "code",
   "execution_count": null,
   "id": "b6933e85-d43d-4641-a0fd-08b647df1558",
   "metadata": {},
   "outputs": [],
   "source": [
    "# Get a receipt and access its items\n",
    "receipt = session.query(Receipt).filter_by(merchant=\"Safeway\").first()\n",
    "print(f\"\\n{receipt.merchant} Receipt #{receipt.id}:\")\n",
    "for item in receipt.items:\n",
    "    print(f\"  {item.name}: ${item.price} x{item.quantity} = ${item.subtotal():.2f}\")\n",
    "print(f\"Grand Total: ${receipt.grand_total:.2f}\")\n"
   ]
  },
  {
   "cell_type": "markdown",
   "id": "e753f6c4-c478-48dd-ab66-1a404a84df87",
   "metadata": {},
   "source": [
    "This works because of the relationship we defined. When we access `receipt.items`, SQLAlchemy automatically queries the database for all items with that receipt's ID.\n",
    "### Finding Items Across All Receipts\n",
    "\n",
    "What if we want to find all purchases of a specific product, regardless of which receipt it's on? all we need to do is query the appropriate table (Item in this case)\n"
   ]
  },
  {
   "cell_type": "code",
   "execution_count": null,
   "id": "4253f4c3-e47b-4dd5-bcd6-d83caff5c99c",
   "metadata": {},
   "outputs": [],
   "source": [
    "# Find all times we bought milk\n",
    "milk_items = session.query(Item).filter_by(name=\"Milk\").all()\n",
    "print(f\"\\nBought milk {len(milk_items)} times:\")\n",
    "for item in milk_items:\n",
    "    print(f\"  {item.receipt.merchant}: {item.quantity} at ${item.price}\")\n"
   ]
  },
  {
   "cell_type": "code",
   "execution_count": null,
   "id": "551303f1-a5ad-428f-9ead-3b3338c2efc8",
   "metadata": {},
   "outputs": [],
   "source": [
    "# Find all times we bought milk\n",
    "milk_items = session.query(Item).filter_by(price = 4.29).all()\n",
    "print(f\"\\nBought milk {len(milk_items)} times:\")\n",
    "for item in milk_items:\n",
    "    print(f\"  {item.receipt.merchant}: {item.quantity} at ${item.price}\")\n"
   ]
  },
  {
   "cell_type": "code",
   "execution_count": null,
   "id": "89940e8e-ae7d-4861-a684-7d7b23066002",
   "metadata": {},
   "outputs": [],
   "source": [
    "# Find all times we bought milk\n",
    "milk_items = session.query(Item).filter(Item.price < 6).all()\n",
    "print(f\"\\nBought milk {len(milk_items)} times:\")\n",
    "for item in milk_items:\n",
    "    print(f\"  {item.receipt.merchant}: {item.quantity} at ${item.price}\")\n"
   ]
  },
  {
   "cell_type": "code",
   "execution_count": null,
   "id": "c760b7f5-d9fc-4661-9c7e-50f6769b2e15",
   "metadata": {},
   "outputs": [],
   "source": [
    "Notice how we can navigate backwards too: `item.receipt.merchant` goes from the item to its receipt. This is the power of bidirectional relationships.\n"
   ]
  },
  {
   "cell_type": "markdown",
   "id": "4d3c3e9b-402b-491c-8b4b-1d6273aaf440",
   "metadata": {},
   "source": [
    "### Understanding Joins\n",
    "\n",
    "Now we hit a more complex question: which receipts contain milk? We need to look at receipts, but filter based on their items. This requires a **join**.\n",
    "\n",
    "A join combines two tables based on their relationship. Think of it like this: we're asking the database to create a temporary combined table where each row contains both a receipt and one of its items, then we filter that combined table.\n"
   ]
  },
  {
   "cell_type": "code",
   "execution_count": null,
   "id": "7675b16b-3b84-4fd1-9b8e-1ff18469114b",
   "metadata": {},
   "outputs": [],
   "source": [
    "receipts_with_milk = session.query(Receipt).join(Item).filter(\n",
    "    Item.name == \"Milk\"\n",
    ").all()\n",
    "receipts_with_milk"
   ]
  },
  {
   "cell_type": "markdown",
   "id": "5e1b3dbc-930b-43ec-9624-f0becbcdb7e2",
   "metadata": {},
   "source": [
    "\n",
    "\n",
    "print(f\"\\nReceipts containing milk: {len(receipts_with_milk)}\")\n",
    "for receipt in receipts_with_milk:\n",
    "    print(f\"  {receipt.merchant} on {receipt.date}\")\n",
    "```\n",
    "\n",
    "**What's happening here:** \n",
    "- `query(Receipt)` says we want Receipt objects back\n",
    "- `.join(Item)` creates the connection between receipts and items\n",
    "- `.filter(Item.name == \"Milk\")` filters to only rows where the item is milk\n",
    "- We get back Receipt objects, not items, because that's what we queried for\n",
    "\n",
    "Without the join, we couldn't filter receipts based on item properties—the database wouldn't know how to connect them."
   ]
  },
  {
   "cell_type": "markdown",
   "id": "1e031aac-b5cc-4b55-ae29-cd385d40c299",
   "metadata": {},
   "source": [
    "## Inheritance - ServiceReceipt & GroceryReceipt\n",
    "\n",
    "### The Problem: Different Receipt Types\n",
    "\n",
    "Not all receipts are the same. A restaurant receipt needs to track the waiter's name and tip amount. A grocery store receipt needs to store your loyalty card number. But both are fundamentally receipts—they have merchants, items, totals, and dates.\n",
    "\n",
    "```python\n",
    "# Restaurant receipt has waiter and tip\n",
    "restaurant = ServiceReceipt(\n",
    "    merchant=\"Olive Garden\",\n",
    "    waiter=\"Sarah\",\n",
    "    tip=10.00\n",
    ")\n",
    "\n",
    "# Grocery receipt has loyalty number\n",
    "grocery = GroceryReceipt(\n",
    "    merchant=\"Safeway\",\n",
    "    loyalty_number=\"1234567890\"\n",
    ")\n",
    "\n",
    "# But they're BOTH receipts with merchant, items, total, etc.\n",
    "```\n",
    "\n",
    "We could create completely separate classes with duplicate code, but that violates a fundamental programming principle: don't repeat yourself. Both receipt types share most of their behavior—only a few fields differ. This is the perfect scenario for inheritance.\n",
    "\n",
    "### Understanding Inheritance in Databases\n",
    "\n",
    "Inheritance in object-oriented programming is straightforward: a child class inherits properties and methods from a parent class. But in databases, we need a strategy for storing this hierarchy in tables.\n",
    "\n",
    "SQLAlchemy offers three inheritance strategies, but we'll use the simplest: **single table inheritance**. This means all receipt types—base receipts, service receipts, and grocery receipts—are stored in one table. A special column called the **discriminator** tells SQLAlchemy which type each row represents.\n",
    "\n",
    "Think of it like a filing cabinet where all receipts go in one drawer, but each has a label (\"service\" or \"grocery\") that tells you what kind it is.\n",
    "\n",
    "## Implementing Inheritance\n",
    "\n",
    "### The Base Receipt Class\n",
    "\n",
    "We start by modifying our `Receipt` class to support inheritance. The key additions are the `type` column and the `__mapper_args__` dictionary.\n",
    "\n",
    "```python\n",
    "class Receipt(Base):\n",
    "    \"\"\"Base receipt class - all receipts have these fields\"\"\"\n",
    "    __tablename__ = 'receipts'\n",
    "    \n",
    "    id = Column(Integer, primary_key=True)\n",
    "    type = Column(String)  # Discriminator column\n",
    "    merchant = Column(String, nullable=False)\n",
    "    phone = Column(String)\n",
    "    total = Column(Float)\n",
    "    tax = Column(Float)\n",
    "    grand_total = Column(Float)\n",
    "    date = Column(Date, default=date.today)\n",
    "    \n",
    "    items = relationship(\"Item\", back_populates=\"receipt\", cascade=\"all, delete-orphan\")\n",
    "    \n",
    "    # This enables inheritance\n",
    "    __mapper_args__ = {\n",
    "        'polymorphic_identity': 'receipt',\n",
    "        'polymorphic_on': type\n",
    "    }\n",
    "```\n",
    "\n",
    "The `type` column is our **discriminator column**—it stores a string that identifies which class this receipt belongs to. The `__mapper_args__` dictionary tells SQLAlchemy two critical things:\n",
    "\n",
    "- `polymorphic_on`: which column contains the type information (our `type` column)\n",
    "- `polymorphic_identity`: what value to store in that column for this specific class (\"receipt\" for base receipts)\n",
    "\n",
    "When you create a `Receipt` object, SQLAlchemy automatically sets `type='receipt'`. When you query, SQLAlchemy reads the `type` column to determine which Python class to instantiate.\n",
    "\n",
    "### Creating ServiceReceipt\n",
    "\n",
    "Now we can create specialized receipt types. A service receipt adds two fields: the waiter's name and the tip amount.\n",
    "\n",
    "```python\n",
    "class ServiceReceipt(Receipt):\n",
    "    \"\"\"Restaurant/service receipt with waiter and tip\"\"\"\n",
    "    __tablename__ = None  # Use parent table\n",
    "    \n",
    "    waiter = Column(String)\n",
    "    tip = Column(Float, default=0.0)\n",
    "    \n",
    "    __mapper_args__ = {\n",
    "        'polymorphic_identity': 'service',\n",
    "    }\n",
    "```\n",
    "\n",
    "Notice `__tablename__ = None`—this tells SQLAlchemy not to create a separate table. Instead, the `waiter` and `tip` columns are added to the `receipts` table. This is how single table inheritance works: all columns from all classes share one table.\n",
    "\n",
    "The `polymorphic_identity` is set to `'service'`, so when you create a `ServiceReceipt`, the `type` column is automatically set to `'service'`.\n",
    "\n",
    "### Method Overriding: Custom Calculation Logic\n",
    "\n",
    "Service receipts need different calculation logic because the tip should be included in the grand total. We override the `calculate_total()` method to implement this.\n",
    "\n",
    "```python\n",
    "class ServiceReceipt(Receipt):\n",
    "    # ... (columns as before)\n",
    "    \n",
    "    def calculate_total(self):\n",
    "        \"\"\"Override to include tip in grand_total\"\"\"\n",
    "        self.total = sum(item.subtotal() for item in self.items)\n",
    "        self.tax = self.total * 0.09\n",
    "        # Grand total includes tip!\n",
    "        self.grand_total = self.total + self.tax + self.tip\n",
    "```\n",
    "\n",
    "This is **method overriding**—we replace the parent class's method with our own version. When you call `calculate_total()` on a `ServiceReceipt`, Python uses this version instead of the base `Receipt` version. The tip is now part of the grand total, which makes sense for restaurant bills.\n",
    "\n",
    "### Creating GroceryReceipt\n",
    "\n",
    "Grocery receipts are simpler—they just add a loyalty number field and use the standard total calculation.\n",
    "\n",
    "```python\n",
    "class GroceryReceipt(Receipt):\n",
    "    \"\"\"Grocery store receipt with loyalty program\"\"\"\n",
    "    __tablename__ = None  # Use parent table\n",
    "    \n",
    "    loyalty_number = Column(String)\n",
    "    \n",
    "    __mapper_args__ = {\n",
    "        'polymorphic_identity': 'grocery',\n",
    "    }\n",
    "```\n",
    "\n",
    "No need to override `calculate_total()` here as the base class implementation works fine for groceries.\n"
   ]
  },
  {
   "cell_type": "code",
   "execution_count": 1,
   "id": "42efe031-8f1d-48b6-ad4f-462457262fc2",
   "metadata": {},
   "outputs": [
    {
     "name": "stdout",
     "output_type": "stream",
     "text": [
      "Created new database with inheritance support\n"
     ]
    }
   ],
   "source": [
    "# Create engine and base (with all your new classes defined)\n",
    "from sqlalchemy import create_engine, Column, Integer, String, Float, Date, ForeignKey\n",
    "from sqlalchemy.orm import declarative_base\n",
    "from sqlalchemy.orm import sessionmaker, relationship\n",
    "from datetime import date\n",
    "\n",
    "engine = create_engine('sqlite:///receipts.db')\n",
    "Base = declarative_base()\n",
    "\n",
    "\n",
    "print(\"Created new database with inheritance support\")"
   ]
  },
  {
   "cell_type": "code",
   "execution_count": 2,
   "id": "f5e5679d-7ff4-40f7-9da5-39a104881b1c",
   "metadata": {},
   "outputs": [],
   "source": [
    "class Receipt(Base):\n",
    "    \"\"\"Base receipt class - all receipts have these fields\"\"\"\n",
    "    __tablename__ = 'receipts'\n",
    "    \n",
    "    id = Column(Integer, primary_key=True)\n",
    "    type = Column(String)  # Discriminator column\n",
    "    merchant = Column(String, nullable=False)\n",
    "    phone = Column(String)\n",
    "    total = Column(Float)\n",
    "    tax = Column(Float)\n",
    "    grand_total = Column(Float)\n",
    "    date = Column(Date, default=date.today)\n",
    "    \n",
    "    items = relationship(\"Item\", back_populates=\"receipt\", cascade=\"all, delete-orphan\")\n",
    "    \n",
    "    # This enables inheritance\n",
    "    __mapper_args__ = {\n",
    "        'polymorphic_identity': 'receipt',\n",
    "        'polymorphic_on': type\n",
    "    }\n",
    "\n",
    "    def calculate_total(self):\n",
    "        \"\"\"Calculate total from items\"\"\"\n",
    "        self.total = sum(item.price * item.quantity for item in self.items)\n",
    "        self.tax = self.total * 0.045  # 4.5% tax rate\n",
    "        self.grand_total = self.total + self.tax\n",
    "        return self.grand_total\n",
    "        \n",
    "    def __repr__(self):\n",
    "        return f\"Receipt #{self.id}: {self.merchant} - ${self.grand_total:.2f}\""
   ]
  },
  {
   "cell_type": "code",
   "execution_count": 3,
   "id": "00deee05-48ab-4364-a428-a1868401562e",
   "metadata": {},
   "outputs": [],
   "source": [
    "class Item(Base):\n",
    "    __tablename__ = 'items'\n",
    "    \n",
    "    id = Column(Integer, primary_key=True)\n",
    "    receipt_id = Column(Integer, ForeignKey('receipts.id'), nullable=False)\n",
    "    name = Column(String, nullable=False)\n",
    "    price = Column(Float, nullable=False)\n",
    "    quantity = Column(Integer, default=1)\n",
    "    \n",
    "    # Relationship: each item belongs to one receipt\n",
    "    receipt = relationship(\"Receipt\", back_populates=\"items\")\n",
    "    \n",
    "    def subtotal(self):\n",
    "        \"\"\"Calculate item subtotal\"\"\"\n",
    "        return self.price * self.quantity\n",
    "    \n",
    "    def __repr__(self):\n",
    "        return f\"Item({self.name}: ${self.price} x{self.quantity})\"\n"
   ]
  },
  {
   "cell_type": "code",
   "execution_count": 4,
   "id": "3b40dc13-18b0-492f-95ab-221fabdf1574",
   "metadata": {},
   "outputs": [],
   "source": [
    "class ServiceReceipt(Receipt):\n",
    "    \"\"\"Restaurant/service receipt with waiter and tip\"\"\"\n",
    "    __tablename__ = None  # Use parent table\n",
    "    \n",
    "    waiter = Column(String)\n",
    "    tip = Column(Float, default=0.0)\n",
    "    \n",
    "    __mapper_args__ = {\n",
    "        'polymorphic_identity': 'service',\n",
    "    }\n",
    "    def calculate_total(self):\n",
    "        \"\"\"Override to include tip in grand_total\"\"\"\n",
    "        self.total = sum(item.subtotal() for item in self.items)\n",
    "        self.tax = self.total * 0.09\n",
    "        # Grand total includes tip!\n",
    "        self.grand_total = self.total + self.tax + self.tip"
   ]
  },
  {
   "cell_type": "code",
   "execution_count": 5,
   "id": "3ac6dc76-17f4-4080-a98d-1f8ac52bf8ba",
   "metadata": {},
   "outputs": [],
   "source": [
    "class GroceryReceipt(Receipt):\n",
    "    \"\"\"Grocery store receipt with loyalty program\"\"\"\n",
    "    __tablename__ = None  # Use parent table\n",
    "    \n",
    "    loyalty_number = Column(String)\n",
    "    \n",
    "    __mapper_args__ = {\n",
    "        'polymorphic_identity': 'grocery',\n",
    "    }"
   ]
  },
  {
   "cell_type": "code",
   "execution_count": 6,
   "id": "755a91a8-9537-422b-969d-822b5bf57f3a",
   "metadata": {},
   "outputs": [],
   "source": [
    "Base.metadata.create_all(engine)\n",
    "\n",
    "# Create session\n",
    "Session = sessionmaker(bind=engine)\n",
    "session = Session()"
   ]
  },
  {
   "cell_type": "markdown",
   "id": "bc005187-29c9-4616-b66a-67937bb4e2d6",
   "metadata": {},
   "source": [
    "## Using Inherited Classes\n",
    "\n",
    "### Creating Different Receipt Types\n",
    "\n",
    "Now we can create receipts of different types and SQLAlchemy handles the details automatically.\n"
   ]
  },
  {
   "cell_type": "code",
   "execution_count": 7,
   "id": "db1c6e0f-9b99-4511-8b46-050d9479ee5e",
   "metadata": {},
   "outputs": [],
   "source": [
    "from sqlalchemy import func\n",
    "\n",
    "session = Session()\n",
    "\n",
    "# Create a service receipt (restaurant)\n",
    "restaurant = ServiceReceipt(\n",
    "    merchant=\"Olive Garden\",\n",
    "    phone=\"555-0500\",\n",
    "    waiter=\"Sarah\"\n",
    ")\n",
    "restaurant.items.extend([\n",
    "    Item(name=\"Pasta\", price=15.99, quantity=1),\n",
    "    Item(name=\"Salad\", price=8.99, quantity=1),\n",
    "    Item(name=\"Soda\", price=2.99, quantity=2),\n",
    "])\n",
    "restaurant.tip = 6.00\n",
    "restaurant.calculate_total()\n",
    "session.add(restaurant)\n",
    "session.commit()"
   ]
  },
  {
   "cell_type": "markdown",
   "id": "01014651-70b7-4b61-94dc-ae63c32be949",
   "metadata": {},
   "source": [
    "Notice we call `calculate_total()` after setting the tip. This ensures the tip is included in the grand total. The order matters here—if you calculate first and then set the tip, the tip won't be included."
   ]
  },
  {
   "cell_type": "code",
   "execution_count": 9,
   "id": "431a5e53-a93d-4423-8c46-16702d97050d",
   "metadata": {},
   "outputs": [],
   "source": []
  },
  {
   "cell_type": "code",
   "execution_count": 10,
   "id": "eb070048-9c9c-4587-9f81-ca900cd178eb",
   "metadata": {},
   "outputs": [],
   "source": [
    "# Create a grocery receipt\n",
    "grocery = GroceryReceipt(\n",
    "    merchant=\"Safeway\",\n",
    "    phone=\"555-0600\",\n",
    "    loyalty_number=\"1234567890\"\n",
    ")\n",
    "grocery.items.extend([\n",
    "    Item(name=\"Milk\", price=4.29, quantity=1),\n",
    "    Item(name=\"Bread\", price=3.50, quantity=1),\n",
    "    Item(name=\"Eggs\", price=6.99, quantity=1),\n",
    "    Item(name=\"Apples\", price=5.99, quantity=2),\n",
    "])\n",
    "grocery.calculate_total()\n",
    "session.add(grocery)\n",
    "\n",
    "session.commit()"
   ]
  },
  {
   "cell_type": "code",
   "execution_count": 11,
   "id": "3bb7b623-57b9-428b-8c4c-da84b85726f3",
   "metadata": {},
   "outputs": [
    {
     "data": {
      "text/plain": [
       "[Receipt #1: Olive Garden - $39.75,\n",
       " Receipt #2: Safeway - $27.96,\n",
       " Receipt #3: Safeway - $27.96]"
      ]
     },
     "execution_count": 11,
     "metadata": {},
     "output_type": "execute_result"
    }
   ],
   "source": [
    "session.query(Receipt).all()"
   ]
  },
  {
   "cell_type": "markdown",
   "id": "4991c2d7-c001-475e-af67-48a2d0813247",
   "metadata": {},
   "source": [
    "\n",
    "Even though these are different Python classes, they're stored in the same `receipts` table. The `type` column contains `'service'` for the restaurant and `'grocery'` for Safeway.\n"
   ]
  },
  {
   "cell_type": "code",
   "execution_count": 14,
   "id": "a3cdc27d-002d-44a8-8f84-a57729b554a1",
   "metadata": {},
   "outputs": [
    {
     "name": "stdout",
     "output_type": "stream",
     "text": [
      "Type: service, Merchant: Olive Garden\n",
      "Type: grocery, Merchant: Safeway\n",
      "Type: grocery, Merchant: Safeway\n"
     ]
    }
   ],
   "source": [
    "# Check the discriminator column\n",
    "for rec in session.query(Receipt).all():\n",
    "    print(f\"Type: {rec.type}, Merchant: {rec.merchant}\")"
   ]
  },
  {
   "cell_type": "code",
   "execution_count": null,
   "id": "a2825ed7-4ef2-48eb-81a6-7ddda91c3cba",
   "metadata": {},
   "outputs": [],
   "source": [
    "\n",
    "## Querying Across the Hierarchy\n",
    "\n",
    "The real power of inheritance shows up when querying. You can query broadly (all receipts) or narrowly (only specific types).\n",
    "\n",
    "### Querying All Receipts\n",
    "\n",
    "When you query the base `Receipt` class, you get everything—service receipts, grocery receipts, and plain receipts.\n"
   ]
  },
  {
   "cell_type": "code",
   "execution_count": 15,
   "id": "c2677c77-de54-4f9c-b433-f6fa09245755",
   "metadata": {},
   "outputs": [
    {
     "name": "stdout",
     "output_type": "stream",
     "text": [
      "\n",
      "All Receipts: 3 total\n",
      "  Receipt #1: Olive Garden - $39.75\n",
      "  Receipt #2: Safeway - $27.96\n",
      "  Receipt #3: Safeway - $27.96\n"
     ]
    }
   ],
   "source": [
    "# Get ALL receipts (any type)\n",
    "all_receipts = session.query(Receipt).all()\n",
    "print(f\"\\nAll Receipts: {len(all_receipts)} total\")\n",
    "for r in all_receipts:\n",
    "    print(f\"  {r}\")"
   ]
  },
  {
   "cell_type": "markdown",
   "id": "c2a4765c-caac-46a1-80be-d39006619ba8",
   "metadata": {},
   "source": [
    "SQLAlchemy automatically instantiates the correct class for each row based on the `type` column. A row with `type='service'` becomes a `ServiceReceipt` object, not a plain `Receipt` object.\n"
   ]
  },
  {
   "cell_type": "markdown",
   "id": "a8f21cb4-de3a-4e41-9a32-de2061e0f2de",
   "metadata": {},
   "source": [
    "### Querying Specific Types\n",
    "\n",
    "To get only service receipts, query the `ServiceReceipt` class directly.\n"
   ]
  },
  {
   "cell_type": "code",
   "execution_count": 18,
   "id": "a5d44856-c744-416e-8464-25e3fd79bda9",
   "metadata": {},
   "outputs": [
    {
     "name": "stdout",
     "output_type": "stream",
     "text": [
      "\n",
      "Service Receipts: 1\n",
      "  Olive Garden: Waiter=Sarah, Tip=$6.00\n",
      "    Tip percentage: 19.4%\n"
     ]
    }
   ],
   "source": [
    "service_receipts = session.query(ServiceReceipt).all()\n",
    "print(f\"\\nService Receipts: {len(service_receipts)}\")\n",
    "for r in service_receipts:\n",
    "    print(f\"  {r.merchant}: Waiter={r.waiter}, Tip=${r.tip:.2f}\")\n",
    "    tip_pct = (r.tip / r.total * 100) if r.total > 0 else 0\n",
    "    print(f\"    Tip percentage: {tip_pct:.1f}%\")"
   ]
  },
  {
   "cell_type": "code",
   "execution_count": null,
   "id": "3a1cfe83-25a6-4000-b926-847caca1675f",
   "metadata": {},
   "outputs": [],
   "source": [
    "SQLAlchemy adds a filter automatically: it only returns rows where `type='service'`. You don't have to manually filter by the discriminator column—the inheritance system handles it.\n",
    "\n",
    "Similarly for grocery receipts:\n"
   ]
  },
  {
   "cell_type": "code",
   "execution_count": 19,
   "id": "f18e6472-aef6-4701-a3c2-e38d8aca4d9a",
   "metadata": {},
   "outputs": [
    {
     "name": "stdout",
     "output_type": "stream",
     "text": [
      "\n",
      "Grocery Receipts: 2\n",
      "  Safeway (Loyalty: 1234567890)\n",
      "    Total: $27.96\n",
      "  Safeway (Loyalty: 1234567890)\n",
      "    Total: $27.96\n"
     ]
    }
   ],
   "source": [
    "# Get ONLY grocery receipts\n",
    "grocery_receipts = session.query(GroceryReceipt).all()\n",
    "print(f\"\\nGrocery Receipts: {len(grocery_receipts)}\")\n",
    "for r in grocery_receipts:\n",
    "    print(f\"  {r.merchant} (Loyalty: {r.loyalty_number})\")\n",
    "    print(f\"    Total: ${r.grand_total:.2f}\")"
   ]
  },
  {
   "cell_type": "markdown",
   "id": "f2b14d90-84f2-4dd8-92da-5b475bb9bc21",
   "metadata": {},
   "source": [
    "### Beyond Basic Queries: What's Possible\n",
    "\n",
    "The examples above show fundamental querying patterns—getting all receipts, filtering by type, and accessing subclass attributes. But SQLAlchemy supports much more sophisticated analysis. Here's what's possible once you understand the core concepts we've covered.\n",
    "\n",
    "**Aggregations**: You can calculate totals, averages, minimums, maximums, and counts across your data. For example: \"What's the total amount I've spent on tips?\" or \"What's my average grocery bill?\" or \"How many times have I shopped at Safeway?\" These use functions like `func.sum()`, `func.avg()`, `func.count()`, `func.min()`, and `func.max()`.\n",
    "\n",
    "**Filtering and Comparisons**: Beyond simple equality checks, you can filter on ranges, patterns, and combinations. Questions like \"Show me all receipts over $50\" or \"Find receipts from the last month\" or \"Which service receipts have tips greater than 20%?\" These use comparison operators (`>`, `<`, `>=`, `<=`) and filters on dates, amounts, and percentages.\n",
    "\n",
    "**Grouping**: You can organize data into categories and perform calculations on each group. For instance: \"How much did I spend at each merchant?\" or \"What's my average tip percentage by restaurant?\" This groups receipts by merchant or other attributes and calculates statistics for each group.\n",
    "\n",
    "**Sorting**: You can order results by any attribute—chronologically, by amount, alphabetically. \"Show me my most expensive receipts first\" or \"List all service receipts by date\" use sorting operations.\n",
    "\n",
    "**Complex Combinations**: You can combine all these operations. \"For each grocery store, show me my total spending and number of visits, but only for stores where I've spent more than $100 total, sorted by spending\" mixes grouping, aggregation, filtering, and sorting.\n",
    "\n",
    "The key insight: once you understand relationships, joins, filtering, and inheritance—the concepts we've covered—you can describe what you want in plain English to a language model. You don't need to memorize every SQLAlchemy function. Instead, focus on articulating your question clearly: \"Calculate the total tips I've given\" or \"Find my average spending at restaurants versus grocery stores\" or \"Show me which loyalty card I've used most often.\"\n",
    "\n",
    "An LLM can translate these questions into the appropriate SQLAlchemy code. Your job is understanding what's possible and what you're trying to accomplish. The LLM handles the syntax details."
   ]
  },
  {
   "cell_type": "markdown",
   "id": "c6b90c90-94db-48f9-af94-5927619874bb",
   "metadata": {},
   "source": [
    "\n",
    "\n",
    "## The Key Benefits of Inheritance\n",
    "\n",
    "Inheritance in databases gives you several advantages:\n",
    "\n",
    "**Code reuse**: Common fields and methods are defined once in the base class. You don't duplicate the `merchant`, `total`, or `items` relationship in every subclass.\n",
    "\n",
    "**Polymorphic queries**: You can query all receipts together or filter to specific types. This flexibility makes your code more powerful without adding complexity.\n",
    "\n",
    "**Type-specific behavior**: Each subclass can override methods to implement custom logic. Service receipts calculate totals differently than grocery receipts, but both use the same interface.\n",
    "\n",
    "**Maintainability**: Changes to common functionality only need to be made in one place. If you modify how `calculate_total()` works in the base class, all subclasses inherit the change unless they override it.\n",
    "\n",
    "The inheritance system lets you model real-world hierarchies naturally while keeping your database schema simple. All receipts live in one table, but your Python code treats them as distinct types with different behaviors."
   ]
  },
  {
   "cell_type": "code",
   "execution_count": null,
   "id": "bde4d427-5051-420c-be06-6e5920b29362",
   "metadata": {},
   "outputs": [],
   "source": []
  }
 ],
 "metadata": {
  "kernelspec": {
   "display_name": "Python 3.12",
   "language": "python",
   "name": "py3.12"
  },
  "language_info": {
   "codemirror_mode": {
    "name": "ipython",
    "version": 3
   },
   "file_extension": ".py",
   "mimetype": "text/x-python",
   "name": "python",
   "nbconvert_exporter": "python",
   "pygments_lexer": "ipython3",
   "version": "3.12.9"
  }
 },
 "nbformat": 4,
 "nbformat_minor": 5
}
