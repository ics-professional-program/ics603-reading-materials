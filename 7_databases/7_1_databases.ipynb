{
 "cells": [
  {
   "cell_type": "code",
   "execution_count": null,
   "id": "c7d44bbe-cbc7-4845-aeac-af729c8f269c",
   "metadata": {},
   "outputs": [],
   "source": [
    "# From Objects to Databases: Receipt Tracking System"
   ]
  },
  {
   "cell_type": "markdown",
   "id": "d478419f-9809-4188-ba97-2aa8284065de",
   "metadata": {},
   "source": [
    "# From Objects to Databases: Receipt Tracking System\n",
    "\n",
    "This module covers databases, which are critical for storing and working with data in real-world applications. The approach and frameworks will use here to work with databases also reinforces Object-Oriented Programming concepts covered so fa, as the same principles of classes, attributes, methods, and inheritance apply directly to database design.\n",
    "\n",
    "This module will not work with SQL (Structured Query Language). Instead, will use use an ORM (Object-Relational Mapping) tool. An ORM is a programming technique that maps Python classes to database tables, allowing you to interact with databases using Python code rather than SQL queries. With an ORM, a Python class definition becomes a table schema, class instances become database rows, and Python methods perform database operations—all without writing SQL statements.\n",
    "\n",
    "This module covered into SQLAlchemy, the most widely used ORM in Python."
   ]
  },
  {
   "cell_type": "code",
   "execution_count": null,
   "id": "e17484be-db9e-4592-ba93-467d729b6e41",
   "metadata": {},
   "outputs": [],
   "source": [
    "\n",
    "## Lesson 1: From Python Objects to Database Tables\n"
   ]
  },
  {
   "cell_type": "markdown",
   "id": "0d2a1ea0-a458-4fc6-aec0-e7f6398b3a21",
   "metadata": {},
   "source": [
    "Without persistent storage, every receipt that is parsed will be lost when the program terminates. Data only exists in memory during program execution and disappears when the program ends.\n",
    "\n",
    "\n",
    "Why not JSON files? JSON is the most commonly used file format for data interchange, and most data these days is delivered as JSON files. However, saving data as JSON makes it difficult to use in applications. For each query, the entire file must be read into memory and custom logic must be written to find the desired information.\n",
    "\n",
    "Consider these example queries:\n",
    "\n",
    "    * Find all Starbucks receipts from January 1 to March 15 where the total is between $12 and less than $100 and that have at least 2 items\n",
    "    * Find all receipts where a transaction amount is more than $500\n",
    "\n",
    "The logic for each of these queries needs to be implemented independently. Additionally, JSON files must be parsed one record at a time, making operations slow on large datasets. Databases store data in a structured format that makes it easy to formulate and execute complex queries efficiently.\n",
    "\n",
    "\n",
    "Databases can be local (installed on the local machine) or cloud-based (hosted remotely and managed by a service provider). Local databases vary in sophistication, with different products offering different features. Cloud databases can be accessed from anywhere with an internet connection, similar to the difference between using Excel locally versus using Google Sheets in the cloud.\n",
    "\n",
    "While database engineers often access and manipulate databases manually through database management tools, building applications requires programmatic access. This course relies primarily on using SQLAlchemy ORM for database interaction. SQLAlchemy is installed using `pip`, the Python package manager, with the command `pip install sqlalchemy`, following the same process used for other Python packages. SQLAlchemy makes each Python class definition correspond to a database table. The concept of a table is similar to a spreadsheet. A database table contains related information grouped together. For example, an employee table might contain `first_name`, `last_name`, `age`, `department`, `address`, and `salary`. The concept of encapsulation applies here in the same way we covered in the OOP module. Another related table might contain employee paychecks, storing `paycheck_date`, `amount`, `deductions`, and `employee_ID` linking back to the employee table. This structure mirrors how information is encapsulated into classes in object-oriented programming. When data is grouped together logically in a Python class, that same class can be used as a database table definition.\n",
    "\n",
    "The course covers basic operations to Create, Retrieve, Update, and Delete (CRUD) data without writing SQL."
   ]
  },
  {
   "cell_type": "code",
   "execution_count": null,
   "id": "ff95be3f-b82d-4353-9b65-b51792a23891",
   "metadata": {},
   "outputs": [],
   "source": [
    "# What they already know - storing receipts in objects\n",
    "class Receipt:\n",
    "    def __init__(self, merchant, phone, total, tax, grand_total):\n",
    "        self.merchant = merchant\n",
    "        self.phone = phone\n",
    "        self.total = total\n",
    "        self.tax = tax\n",
    "        self.grand_total = grand_total\n",
    "\n",
    "# Create some receipts\n",
    "receipts = [\n",
    "    Receipt(\"Starbucks\", \"555-0100\", 12.50, 1.13, 13.63),\n",
    "    Receipt(\"Target\", \"555-0200\", 45.99, 3.68, 49.67),\n",
    "]\n",
    "\n",
    "# Calculate total spending\n",
    "total = sum(r.grand_total for r in receipts)\n",
    "print(f\"Total spent: ${total:.2f}\")\n"
   ]
  },
  {
   "cell_type": "code",
   "execution_count": null,
   "id": "f12502f2-1f19-40ca-b63f-eb66d485a7ed",
   "metadata": {},
   "outputs": [],
   "source": [
    "Suppose you exit a person into the AI, a bomb in the AI. What happens if you restart your kernel? You will restart information, and you have to re-execute the AI to generate the receipts because you received. \n",
    "Natually, if you restart your kernel, you will look"
   ]
  },
  {
   "cell_type": "code",
   "execution_count": null,
   "id": "053fa9f9-2f4c-4b98-a72d-1c44c8722a04",
   "metadata": {},
   "outputs": [],
   "source": [
    "### Database Solutions for Persistent Data Storage\n",
    "\n",
    "Applications require several key capabilities for effective data management. Data must survive when the program closes, a property known as persistence. The system must support searching and filtering through queries. Analyzing trends over time requires aggregation functions, such as averaging all receipt totals by month or calculating the median item value. Ideally, these operations should be possible without writing a specialized query language, though the ability to use SQL when needed remains valuable. Finally, data access must extend beyond the local machine, enabling queries from web applications or other remote environments.\n",
    "SQLAlchemy ORM addresses these requirements. ORM stands for Object-Relational Mapping, a technique where Python class definitions correspond directly to database tables. This approach eliminates the need to write SQL strings, allowing developers to work entirely in Python.\n",
    "Consider the difference in approaches. Without an ORM, adding a new receipt where the merchant is Starbucks and the total is $12.50 requires combining SQL within Python code:\n",
    "\n",
    "```python\n",
    "# Without ORM (what we WON'T do):\n",
    "\n",
    "cursor.execute(\"INSERT INTO receipts (merchant, total) VALUES (?, ?)\", \n",
    "               (\"Starbucks\", 12.50))\n",
    "With an ORM, the same operation uses natural Python syntax that remains clear even to those unfamiliar with the language:\n",
    "```\n",
    "```python# With ORM (what we WILL do):\n",
    "receipt = Receipt(merchant=\"Starbucks\", total=12.50)\n",
    "session.add(receipt)\n",
    "session.commit()\n",
    "```\n",
    "\n",
    "The ORM approach treats database operations as object (instance) manipulations, making the code more intuitive and maintainable."
   ]
  },
  {
   "cell_type": "code",
   "execution_count": null,
   "id": "3b92c847-1462-4678-afef-f733d7c90f88",
   "metadata": {},
   "outputs": [],
   "source": [
    "    \n",
    "### Installation & Setup (10 minutes)\n",
    "\n",
    "!pip install sqlalchemy\n"
   ]
  },
  {
   "cell_type": "markdown",
   "id": "85528d75-95c7-4030-bffc-4a490f2164de",
   "metadata": {},
   "source": [
    "Setting up database interaction requires importing the correct modules and classes and creating a connection to the database. For simplicity, this course uses `SQLite`, a widely used database management system for prototyping and testing. `SQLite` creates the database in a single file that contains everything needed to store and interact with data.\n",
    "\n",
    "The basic setup code establishes the database connection and creates the necessary infrastructure:\n",
    "\n",
    "```python\n",
    "from sqlalchemy import create_engine, Column, Integer, String, Float\n",
    "from sqlalchemy.ext.declarative import declarative_base\n",
    "from sqlalchemy.orm import sessionmaker\n",
    "\n",
    "# Create a database engine (SQLite = local file)\n",
    "engine = create_engine('sqlite:///receipts.db', echo=True)\n",
    "\n",
    "# Base class for all our database models\n",
    "Base = declarative_base()\n",
    "\n",
    "# Session factory - this is how we talk to the database\n",
    "Session = sessionmaker(bind=engine)\n",
    "session = Session()\n",
    "```\n",
    "\n",
    "This code introduces several key concepts. The engine represents the connection to the database file. The Base class serves as the parent class for all database-backed classes -- remember a databse base class is the Python equivalent of of the table we will be interacting with. This establishes the foundation for the ORM mapping. The session acts as a workspace for making changes to the database, similar to a transaction in which operations can be grouped together before being committed. The `echo=True` parameter causes SQLAlchemy to display the SQL statements it generates, which can be valuable for learning SQL and debugging if you're already somewhat familir with `SQL` and want to see the commands being executed.\n",
    "\n",
    "### Creating Database Tables from Python Classes\n",
    "\n",
    "A simple example demonstrates how the system works. Consider creating a receipt table to store receipt data. Recall that a table is a collection of related data, similar to a spreadsheet tab. The data is related in the same way objects are related in OOP. Below is how a receipt table is created using SQLAlchemy:\n",
    "\n",
    "```python\n",
    "from datetime import date\n",
    "\n",
    "class Receipt(Base):\n",
    "    __tablename__ = 'receipts'\n",
    "    \n",
    "    # Define columns - just like class attributes!\n",
    "    id = Column(Integer, primary_key=True)\n",
    "    merchant = Column(String, nullable=False)\n",
    "    total = Column(Float, nullable=False)\n",
    "    date = Column(Date, default=date.today)\n",
    "    \n",
    "    def __repr__(self):\n",
    "        return f\"<Receipt(merchant='{self.merchant}', total=${self.total:.2f})>\"\n",
    "\n",
    "# Create all tables\n",
    "Base.metadata.create_all(engine)\n",
    "\n",
    "# Create a session\n",
    "Session = sessionmaker(bind=engine)\n",
    "session = Session()\n",
    "```\n",
    "\n",
    "This code performs several operations. The `__tablename__` attribute specifies the name of the table in the database. Each `Column()` definition creates a database field, functioning like class attributes but with database-specific properties (this is similar to columns in the spreadsheet analogy). Column types map Python data types to database types: `Integer` for whole numbers (like the id field), `String` for text (like merchant), `Float` for decimal numbers (like total), and `Date` for date values. The `primary_key=True` parameter designates the id field as a unique identifier that auto-increments with each new record. The `nullable=False` parameter marks a field as required, preventing `None` values. The `default=date.today` parameter provides an automatic value when none is specified. Finally, `Base.metadata.create_all(engine)` executes the actual table creation in the database, translating the Python class definition into the corresponding database schema.\n"
   ]
  },
  {
   "cell_type": "code",
   "execution_count": null,
   "id": "37635acb-1c42-4d29-8df9-07e60fd424fd",
   "metadata": {},
   "outputs": [],
   "source": [
    "from sqlalchemy import create_engine, Column, Integer, String, Float, Date\n",
    "from sqlalchemy.orm import declarative_base, sessionmaker\n",
    "from sqlalchemy.orm import sessionmaker\n",
    "\n",
    "# Create a database engine (SQLite = local file)\n",
    "engine = create_engine('sqlite:///receipts.db', echo=True)\n",
    "\n",
    "# Base class for all our database models\n",
    "Base = declarative_base()\n",
    "\n",
    "# Session factory - this is how we talk to the database\n",
    "Session = sessionmaker(bind=engine)\n",
    "session = Session()"
   ]
  },
  {
   "cell_type": "code",
   "execution_count": null,
   "id": "bc1ce748-299f-437c-b29d-436e6c554511",
   "metadata": {},
   "outputs": [],
   "source": [
    "from datetime import date\n",
    "\n",
    "class Receipt(Base):\n",
    "    __tablename__ = 'receipts'\n",
    "    \n",
    "    # Define columns - just like class attributes!\n",
    "    id = Column(Integer, primary_key=True)\n",
    "    merchant = Column(String, nullable=False)\n",
    "    total = Column(Float, nullable=False)\n",
    "    date = Column(Date, default=date.today)\n",
    "    \n",
    "    def __repr__(self):\n",
    "        return f\"<Receipt(merchant='{self.merchant}', total=${self.total:.2f})>\"\n",
    "\n",
    "# Create all tables\n",
    "Base.metadata.create_all(engine)\n",
    "\n",
    "# Create a session\n",
    "Session = sessionmaker(bind=engine)\n",
    "session = Session()"
   ]
  },
  {
   "cell_type": "markdown",
   "id": "01de3091-1fe5-4c21-8740-e9929c2ab752",
   "metadata": {},
   "source": [
    "\n",
    "### CRUD Operations \n",
    "\n",
    "Creating new database records involves instantiating Python objects and adding them to the session:\n",
    "\n"
   ]
  },
  {
   "cell_type": "code",
   "execution_count": null,
   "id": "70447557-19d1-4bbf-8fdf-0c2abfab0360",
   "metadata": {},
   "outputs": [],
   "source": [
    "from datetime import date\n",
    "\n",
    "# Create receipt objects (just like any Python class!)\n",
    "receipt1 = Receipt(\n",
    "    merchant=\"Starbucks\",\n",
    "    total=12.50,\n",
    "    date=date(2025, 10, 15)\n",
    ")\n",
    "\n",
    "receipt2 = Receipt(\n",
    "    merchant=\"Target\",\n",
    "    total=45.99,\n",
    "    date=date(2025, 10, 16)\n",
    ")\n",
    "\n",
    "receipt3 = Receipt(\n",
    "    merchant=\"Whole Foods\",\n",
    "    total=67.50\n",
    "    # date will default to today since we didn't specify it\n",
    ")\n",
    "\n",
    "# Add to the session (staging area)\n",
    "session.add(receipt1)\n",
    "session.add(receipt2)\n",
    "session.add(receipt3)\n",
    "\n",
    "# Save to database\n",
    "session.commit()\n"
   ]
  },
  {
   "cell_type": "code",
   "execution_count": null,
   "id": "34cb5cde-9333-4f32-af4e-7de783acd97b",
   "metadata": {},
   "outputs": [],
   "source": [
    "The `session` acts as a staging area. When `session.add()` is called, the object is tracked by the session but **not yet written to the database**. The data only exists in Python's memory at this point. The `commit()` method executes the actual database INSERT statements, persisting all pending changes to the database file. Only after `commit()` completes does the data become permanent. `SQLAlchemy` then automatically retrieves and assigns the auto-incremented ID value to each object, which become part of the instances we created\n"
   ]
  },
  {
   "cell_type": "code",
   "execution_count": null,
   "id": "d38dc02f-6efe-478b-8ec5-1215784d7a18",
   "metadata": {},
   "outputs": [],
   "source": [
    "\n",
    "print(f\"Saved receipt with ID: {receipt3.id}\")  # ID is auto-assigned after the commit"
   ]
  },
  {
   "cell_type": "markdown",
   "id": "d7f66a42-4648-4468-b5ff-b22098817c0e",
   "metadata": {},
   "source": [
    "\n",
    "**READ - Getting receipts back:**\n",
    "\n",
    "To demonstrate that data truly persists in the database (not just in RAM), restart the Jupyter notebook kernel now. This clears all variables from memory, simulating closing and reopening the program. After restarting, run the setup code again to reconnect to the database. Here, we need to redefine the Receipt Class to provide Python with the structure of the object we will be retrieving, but in a real app, all SQLAlchemy base classes should be defined in an external file and important as needed.\n",
    "\n"
   ]
  },
  {
   "cell_type": "code",
   "execution_count": null,
   "id": "bf954c11-ca66-4d43-a346-8441c47a9117",
   "metadata": {},
   "outputs": [],
   "source": [
    "from sqlalchemy import create_engine, Column, Integer, String, Float, Date\n",
    "from sqlalchemy.orm import declarative_base, sessionmaker\n",
    "from datetime import date\n",
    "\n",
    "# Reconnect to the same database file\n",
    "engine = create_engine('sqlite:///receipts.db', echo=True)\n",
    "Base = declarative_base()\n",
    "\n",
    "class Receipt(Base):\n",
    "    __tablename__ = 'receipts'\n",
    "    \n",
    "    id = Column(Integer, primary_key=True)\n",
    "    merchant = Column(String, nullable=False)\n",
    "    total = Column(Float, nullable=False)\n",
    "    date = Column(Date, default=date.today)\n",
    "    \n",
    "    def __repr__(self):\n",
    "        return f\"<Receipt(merchant='{self.merchant}', total=${self.total:.2f})>\"\n",
    "\n",
    "Session = sessionmaker(bind=engine)\n",
    "session = Session()"
   ]
  },
  {
   "cell_type": "code",
   "execution_count": null,
   "id": "cbb70268-ce19-448b-b859-831b9d13a0c3",
   "metadata": {},
   "outputs": [],
   "source": [
    "all_receipts = session.query(Receipt).all()"
   ]
  },
  {
   "cell_type": "code",
   "execution_count": null,
   "id": "a3c138eb-8e1a-4ede-baa0-463da018d358",
   "metadata": {},
   "outputs": [],
   "source": [
    "len(all_receipts)"
   ]
  },
  {
   "cell_type": "code",
   "execution_count": null,
   "id": "9d4d8aba-4d90-4eed-969f-2b773d2ac849",
   "metadata": {},
   "outputs": [],
   "source": [
    "# We get a strig representation form the `__repr__`\n",
    "for r in all_receipts:\n",
    "    print(r)\n"
   ]
  },
  {
   "cell_type": "code",
   "execution_count": null,
   "id": "d68d850f-9a9d-48ed-acb6-8cbf1ae68ae6",
   "metadata": {},
   "outputs": [],
   "source": [
    "receipt = session.get(Receipt, 1)\n",
    "print(f\"\\nReceipt #1: {receipt}\")"
   ]
  },
  {
   "cell_type": "code",
   "execution_count": null,
   "id": "c731a191-ce76-430c-8fc3-70b9e05990ef",
   "metadata": {},
   "outputs": [],
   "source": [
    "receipt = session.get(Receipt, 3)\n",
    "print(f\"\\nReceipt #3: {receipt}\")"
   ]
  },
  {
   "cell_type": "code",
   "execution_count": null,
   "id": "13205ff3-26a2-4fed-acfe-c315c47c15d9",
   "metadata": {},
   "outputs": [],
   "source": [
    "receipt = session.get(Receipt, 4)\n",
    "print(f\"\\nReceipt #4 is: {receipt}\")"
   ]
  },
  {
   "cell_type": "code",
   "execution_count": null,
   "id": "2f4a2049-50f1-4db0-8407-5a01da51834f",
   "metadata": {},
   "outputs": [],
   "source": [
    "starbucks = session.query(Receipt).filter_by(merchant=\"Starbucks\").all()\n",
    "\n",
    "print(\"\\n=== Starbucks Receipts ===\")\n",
    "for r in starbucks:\n",
    "    print(f\"  {r}\")"
   ]
  },
  {
   "cell_type": "code",
   "execution_count": null,
   "id": "5568d965-5b75-45fe-b447-6d7bbd10141c",
   "metadata": {},
   "outputs": [],
   "source": [
    "\n",
    "# Filter with conditions\n",
    "expensive = session.query(Receipt).filter(Receipt.total > 50).all()\n",
    "\n",
    "print(\"\\n=== Receipts Over $50 ===\")\n",
    "for r in expensive:\n",
    "    print(f\"  {r}\")\n"
   ]
  },
  {
   "cell_type": "code",
   "execution_count": null,
   "id": "a7506309-a940-4239-afa5-3c78dc00d1c2",
   "metadata": {},
   "outputs": [],
   "source": [
    "# Filter by date range\n",
    "from datetime import date, timedelta\n",
    "week_ago = date.today() - timedelta(days=7)\n",
    "recent = session.query(Receipt).filter(Receipt.date >= week_ago).all()\n",
    "\n",
    "print(\"\\n=== Receipts from Last Week ===\")\n",
    "for r in recent:\n",
    "    print(f\"  {r}\")"
   ]
  },
  {
   "cell_type": "markdown",
   "id": "31e4affc-7d49-4163-a990-6ac958814b32",
   "metadata": {},
   "source": [
    "Note that the the receipts still exist because they were written to the `receipts.db` file. Restarting the kernel cleared Python's memory, but the database file persisted on disk. This demonstrates the fundamental purpose of databases: data survives beyond the program's execution. In fact , you could share the file with colleagues and they would be able connect to and query it the same way we did.\n",
    "\n",
    "The `query()` method returns a query object that can be refined with filters. The `all()` method executes the query and returns a list of results. The `get()` method retrieves a single record by its primary key. The `filter_by()` method accepts keyword arguments for simple equality comparisons, while `filter()` accepts more complex boolean expressions.\n"
   ]
  },
  {
   "cell_type": "code",
   "execution_count": null,
   "id": "cabf7246-fc06-4414-b41e-6cf6aac6fec6",
   "metadata": {},
   "outputs": [],
   "source": [
    "**UPDATE - Changing receipts:**\n",
    "\n",
    "Modifying existing records involves retrieving the object, changing its attributes, and committing the changes:\n"
   ]
  },
  {
   "cell_type": "code",
   "execution_count": null,
   "id": "25939743-aceb-44a4-a674-638be9bae984",
   "metadata": {},
   "outputs": [],
   "source": [
    "receipt = session.get(Receipt, 1)\n",
    "print(f\"Before: {receipt}\\n\\n\")\n",
    "\n",
    "# Change it (just like a regular object!)\n",
    "receipt.total = 15.00\n",
    "receipt.merchant = \"Starbucks Coffee\"\n",
    "\n",
    "# Save changes\n",
    "session.commit()\n",
    "print(f\"\\n\\nAfter: {receipt}\")"
   ]
  },
  {
   "cell_type": "markdown",
   "id": "41815f80-bc02-4ab4-af21-6d336994fa06",
   "metadata": {},
   "source": [
    "SQLAlchemy tracks changes to objects that belong to a session. When `commit()` is called, it automatically generates and executes the appropriate UPDATE statements.\n"
   ]
  },
  {
   "cell_type": "code",
   "execution_count": null,
   "id": "002d4bb9-3f95-4c26-8510-8ae38ca539c4",
   "metadata": {},
   "outputs": [],
   "source": [
    "**DELETE - Removing receipts:**\n",
    "\n",
    "Deleting records uses the `delete()` method:\n"
   ]
  },
  {
   "cell_type": "code",
   "execution_count": null,
   "id": "e7adb086-52f5-4ed5-9f6b-6df7d3ea1529",
   "metadata": {},
   "outputs": [],
   "source": [
    "# Get a receipt\n",
    "receipt = session.query(Receipt).get(1)\n",
    "\n",
    "# Delete it\n",
    "session.delete(receipt)\n",
    "session.commit()\n",
    "print(f\"Deleted receipt from {receipt.merchant}\")\n"
   ]
  },
  {
   "cell_type": "markdown",
   "id": "5949e113-7a84-49ae-8a45-fb8ed04d18ab",
   "metadata": {},
   "source": [
    "\n",
    "The `delete()` method marks the object for deletion. The actual deletion occurs when `commit()` is called. Once deleted, the object still exists in Python memory but no longer has a corresponding database record."
   ]
  },
  {
   "cell_type": "markdown",
   "id": "ae7b751b-79d8-4a51-a73e-b54e011f92ef",
   "metadata": {},
   "source": [
    "### Hands-On Exercise (15 minutes)\n",
    "\n",
    "**Exercise: replicate the abobe and build your own receipt database**\n",
    "\n",
    "Students write this complete program:\n",
    "\n",
    "```python\n",
    "from sqlalchemy import create_engine, Column, Integer, String, Float, Date\n",
    "from sqlalchemy.orm import declarative_base\n",
    "from sqlalchemy.orm import sessionmaker\n",
    "from datetime import date\n",
    "\n",
    "# Setup database\n",
    "engine = create_engine('sqlite:///my_receipts.db')\n",
    "Base = declarative_base()\n",
    "\n",
    "class Receipt(Base):\n",
    "    __tablename__ = 'receipts'\n",
    "    \n",
    "    id = Column(Integer, primary_key=True)\n",
    "    merchant = Column(String, nullable=False)\n",
    "    phone = Column(String)\n",
    "    total = Column(Float, nullable=False)\n",
    "    tax = Column(Float)\n",
    "    grand_total = Column(Float, nullable=False)\n",
    "    date = Column(Date, default=date.today)\n",
    "    \n",
    "    def __repr__(self):\n",
    "        return f\"<Receipt({self.merchant}: ${self.grand_total:.2f})>\"\n",
    "\n",
    "Base.metadata.create_all(engine)\n",
    "Session = sessionmaker(bind=engine)\n",
    "session = Session()\n",
    "\n",
    "# Add 5 receipts\n",
    "receipts = [\n",
    "    Receipt(merchant=\"Starbucks\", phone=\"555-0100\", total=12.50, tax=1.13, grand_total=13.63),\n",
    "    Receipt(merchant=\"Target\", phone=\"555-0200\", total=45.99, tax=3.68, grand_total=49.67),\n",
    "    Receipt(merchant=\"Starbucks\", phone=\"555-0100\", total=8.25, tax=0.74, grand_total=8.99),\n",
    "    Receipt(merchant=\"Whole Foods\", phone=\"555-0300\", total=67.50, tax=5.40, grand_total=72.90),\n",
    "    Receipt(merchant=\"Target\", phone=\"555-0200\", total=23.50, tax=1.88, grand_total=25.38),\n",
    "]\n",
    "\n",
    "for r in receipts:\n",
    "    session.add(r)\n",
    "session.commit()\n",
    "\n",
    "# Query them\n",
    "print(\"All receipts:\", session.query(Receipt).count())\n",
    "print(\"\\nStarbucks receipts:\")\n",
    "for r in session.query(Receipt).filter_by(merchant=\"Starbucks\").all():\n",
    "    print(f\"  {r}\")\n",
    "\n",
    "# Calculate total\n",
    "total = sum(r.grand_total for r in session.query(Receipt).all())\n",
    "print(f\"\\nTotal spent: ${total:.2f}\")\n",
    "```\n",
    "\n",
    "### Wrap-Up\n",
    "- **Key Insight:** Your Python class IS your database table!\n",
    "- **No SQL needed:** It's all just Python\n",
    "- **The session:** Think of it like a shopping cart - add things, then `commit()` to save\n",
    "- **Preview:** Next class we'll add useful methods and better queries\n",
    "- **Homework:** Add 10 of your own receipts to the database"
   ]
  },
  {
   "cell_type": "markdown",
   "id": "45c23ed6-cb61-4772-9a38-42994b54a5e7",
   "metadata": {},
   "source": [
    "## 2. Building a Complete Receipt Manager\n",
    "\n",
    "The Receipt class created in the previous section focused primarily on data storage through column definitions. However, database-backed classes can also contain methods that operate on that data. Beyond the basic instance methods used in object-oriented programming, Python supports class methods, which operate on the class itself rather than individual instances -- more on this later. This section explores how to add both instance methods and class methods to enhance the Receipt class.\n",
    "\n",
    "So far, the operations performed have been limited to basic CRUD functions: creating, reading, updating, and deleting individual records. Database systems support more sophisticated operations including sorting results by specific criteria, grouping records that share common attributes, and aggregating data through functions like sum, average, and count. SQLAlchemy provides these advanced querying capabilities without requiring SQL knowledge, maintaining the Python-based approach established in the previous section.\n",
    "\n",
    "However, before we proceed, we will first explore how we can turn the database setup code we wrote earlier into a proper OOP class we can use to  interact with the database."
   ]
  },
  {
   "cell_type": "markdown",
   "id": "8f058a11-35eb-43be-abff-9941657d8cfa",
   "metadata": {},
   "source": [
    "### Creating a Database Manager\n",
    "\n",
    "The current approach to database setup involves writing repetitive code to create engines, establish connections, create tables, and manage sessions. Following object-oriented programming principles, this functionality should be encapsulated in a dedicated class that handles database operations consistently. A DatabaseManager class centralizes database configuration and provides methods for common operations like getting sessions, creating tables, and dropping tables.\n",
    "\n",
    "```mermaid\n",
    "classDiagram\n",
    "    class DatabaseManager {\n",
    "        -engine\n",
    "        -Session\n",
    "        +\\_\\_init\\_\\_(db_url)\n",
    "        +get_session()\n",
    "        +create_tables(Base)\n",
    "        +drop_tables(Base)\n",
    "    }\n",
    "```\n",
    "\n",
    "The DatabaseManager class consolidates database access logic. In a real application, this file can live in its module (say database.py) and be imported as needed.\n"
   ]
  },
  {
   "cell_type": "code",
   "execution_count": 4,
   "id": "7a824606-74cf-4c22-aa07-85654c254338",
   "metadata": {},
   "outputs": [],
   "source": [
    "# database.py - reusable database setup\n",
    "from sqlalchemy import create_engine\n",
    "from sqlalchemy.orm import declarative_base, sessionmaker, scoped_session\n",
    "\n",
    "class DatabaseManager:\n",
    "    def __init__(self, db_url='sqlite:///receipts.db'):\n",
    "        self.engine = create_engine(db_url, echo=False)\n",
    "        self.Session = scoped_session(sessionmaker(bind=self.engine))\n",
    "        \n",
    "    def get_session(self):\n",
    "        \"\"\"Get a new database session\"\"\"\n",
    "        return self.Session()\n",
    "    \n",
    "    def create_tables(self, Base):\n",
    "        \"\"\"Create all tables\"\"\"\n",
    "        Base.metadata.create_all(self.engine)\n",
    "    \n",
    "    def drop_tables(self, Base):\n",
    "        \"\"\"Drop all tables (careful!)\"\"\"\n",
    "        Base.metadata.drop_all(self.engine)\n"
   ]
  },
  {
   "cell_type": "code",
   "execution_count": null,
   "id": "d41f9549-257d-4304-b3b2-d2320e6c123a",
   "metadata": {},
   "outputs": [],
   "source": [
    "from sqlalchemy import create_engine, Column, Integer, String, Float, Date\n",
    "from datetime import date\n",
    "\n",
    "from sqlalchemy.orm import declarative_base\n",
    "\n",
    "Base = declarative_base()\n",
    "\n",
    "class Receipt(Base):\n",
    "    __tablename__ = 'receipts'\n",
    "    \n",
    "    # Define columns - just like class attributes!\n",
    "    id = Column(Integer, primary_key=True)\n",
    "    merchant = Column(String, nullable=False)\n",
    "    total = Column(Float, nullable=False)\n",
    "    date = Column(Date, default=date.today)\n",
    "    \n",
    "    def __repr__(self):\n",
    "        return f\"<Receipt(merchant='{self.merchant}', total=${self.total:.2f})>\""
   ]
  },
  {
   "cell_type": "code",
   "execution_count": null,
   "id": "dcbb8c51-8789-4a6f-8233-f3eac8bd4d00",
   "metadata": {},
   "outputs": [],
   "source": [
    "\n",
    "# In your main application file Global instance\n",
    "db_manager = DatabaseManager()\n",
    "session = db_manager.get_session()\n",
    "session.query(Receipt).filter_by(merchant='Starbucks Coffee').all()"
   ]
  },
  {
   "cell_type": "markdown",
   "id": "31619c67-8e2c-4abf-8121-e3b8aa8844c6",
   "metadata": {},
   "source": [
    "This approach provides several advantages. The database URL can be changed in one location rather than throughout the codebase. The `scoped_session` ensures thread-safe session management. Methods like `create_tables()` and `drop_tables()` provide clear, descriptive names for metadata operations. A global instance allows importing and using the manager across multiple modules without recreating connections.\n",
    "\n"
   ]
  },
  {
   "cell_type": "markdown",
   "id": "fbfcea07-7a83-4cce-830e-3cc26aac2f1b",
   "metadata": {},
   "source": [
    "### Advanced Querying Operations\n",
    "\n",
    "SQLAlchemy supports sorting, grouping, and aggregation through its query interface, allowing complex data analysis without writing SQL statements. The previous section demonstrated how `filter()` works. The other query methods follow the same pattern, and modern language models understand exactly how to construct these queries when provided with a description of the model (class or table structure), so there is little value in covering this in more detials. The examples here serve an illustrative purpose: understanding what the code means and knowing what questions to ask when working with databases.\n",
    "\n",
    "**Sorting Results:**\n",
    "\n",
    "Query results can be ordered using the `order_by()` method:\n",
    "\n",
    "```python\n",
    "from sqlalchemy import desc\n",
    "\n",
    "# Sort by date (oldest first, ascending order by default)\n",
    "receipts = session.query(Receipt).order_by(Receipt.date).all()\n",
    "\n",
    "# Sort by total (highest first -- desc for descending)\n",
    "receipts = session.query(Receipt).order_by(desc(Receipt.total)).all()\n",
    "\n",
    "# Multiple sort criteria\n",
    "receipts = session.query(Receipt).order_by(\n",
    "    Receipt.merchant,  # First by merchant name\n",
    "    desc(Receipt.total)  # Then by total (descending)\n",
    ").all()\n",
    "```\n",
    "\n",
    "**Grouping and Aggregation:**\n",
    "\n",
    "The `func` module provides SQL aggregate functions accessible through Python:\n",
    "\n",
    "```python\n",
    "from sqlalchemy import func\n",
    "\n",
    "# Count receipts by merchant and calculate total spending by merchant\n",
    "results = session.query(\n",
    "    Receipt.merchant,\n",
    "    func.sum(Receipt.total).label('total')\n",
    ").group_by(Receipt.merchant).all()\n",
    "\n",
    "for merchant, total in results:\n",
    "    print(f\"{merchant}: ${total:.2f}\")\n",
    "\n",
    "# Average receipt amount\n",
    "avg_total = session.query(func.avg(Receipt.total)).scalar()\n",
    "print(f\"Average receipt: ${avg_total:.2f}\")\n",
    "\n",
    "# Maximum and minimum\n",
    "max_total = session.query(func.max(Receipt.total)).scalar()\n",
    "min_total = session.query(func.min(Receipt.total)).scalar()\n",
    "```\n"
   ]
  },
  {
   "cell_type": "markdown",
   "id": "b5743c0b-ebf4-4d24-a3fe-2ff13bef1d74",
   "metadata": {},
   "source": [
    "### Adding Instance Methods\n",
    "\n",
    "Instance methods, as we've seen in OOP intro, operate on individual Receipt objects and can provide calculated properties or formatted output:"
   ]
  },
  {
   "cell_type": "code",
   "execution_count": 2,
   "id": "af349079-fb63-4317-b17c-2937d6ba0f58",
   "metadata": {},
   "outputs": [],
   "source": [
    "\n",
    "from sqlalchemy import create_engine, Column, Integer, String, Float, Date\n",
    "from datetime import date\n",
    "\n",
    "from sqlalchemy.orm import declarative_base\n",
    "\n",
    "Base = declarative_base()\n",
    "\n",
    "\n",
    "class Receipt(Base):\n",
    "    __tablename__ = 'receipts'\n",
    "    \n",
    "    id = Column(Integer, primary_key=True)\n",
    "    merchant = Column(String, nullable=False)\n",
    "    total = Column(Float, nullable=False)\n",
    "    date = Column(Date, default=date.today)\n",
    "    \n",
    "    def is_expensive(self):\n",
    "        \"\"\"Check if receipt total exceeds threshold\"\"\"\n",
    "        return self.total > 100\n",
    "    \n",
    "    def days_since_purchase(self):\n",
    "        \"\"\"Calculate days between purchase and today\"\"\"\n",
    "        return (date.today() - self.date).days\n",
    "    \n",
    "    def __repr__(self):\n",
    "        return f\"<Receipt(merchant='{self.merchant}', total=${self.total:.2f})>\"\n"
   ]
  },
  {
   "cell_type": "code",
   "execution_count": 5,
   "id": "89ebdeb0-8c72-41e3-a77a-0e626d6d95f3",
   "metadata": {},
   "outputs": [],
   "source": [
    "db_manager = DatabaseManager()\n",
    "session = db_manager.get_session()\n"
   ]
  },
  {
   "cell_type": "code",
   "execution_count": 7,
   "id": "ffa4b5e3-8c7b-418d-8c07-7183661e44c1",
   "metadata": {},
   "outputs": [],
   "source": [
    "receipt = session.get(Receipt, 1)"
   ]
  },
  {
   "cell_type": "code",
   "execution_count": 9,
   "id": "8ae352b8-da79-4563-89e2-7a834367ddd9",
   "metadata": {},
   "outputs": [
    {
     "name": "stdout",
     "output_type": "stream",
     "text": [
      "low-value purchase: 15.0\n"
     ]
    }
   ],
   "source": [
    "if receipt.is_expensive():\n",
    "    print(f\"High-value purchase: {receipt.total}\")\n",
    "else:\n",
    "    print(f\"low-value purchase: {receipt.total}\")\n"
   ]
  },
  {
   "cell_type": "code",
   "execution_count": 10,
   "id": "bdaf476d-f4b0-4dd5-96e1-0fefee36dcb5",
   "metadata": {},
   "outputs": [
    {
     "name": "stdout",
     "output_type": "stream",
     "text": [
      "Purchased 5 days ago\n"
     ]
    }
   ],
   "source": [
    "\n",
    "print(f\"Purchased {receipt.days_since_purchase()} days ago\")\n"
   ]
  },
  {
   "cell_type": "markdown",
   "id": "d74bbef1-6d19-47b2-bad2-f13e83516b62",
   "metadata": {},
   "source": [
    "Instance methods enhance the object's behavior while keeping the code organized within the class definition. They provide a clean interface for common operations without cluttering the main application logic.\n"
   ]
  }
 ],
 "metadata": {
  "kernelspec": {
   "display_name": "Python 3.12",
   "language": "python",
   "name": "py3.12"
  },
  "language_info": {
   "codemirror_mode": {
    "name": "ipython",
    "version": 3
   },
   "file_extension": ".py",
   "mimetype": "text/x-python",
   "name": "python",
   "nbconvert_exporter": "python",
   "pygments_lexer": "ipython3",
   "version": "3.12.9"
  }
 },
 "nbformat": 4,
 "nbformat_minor": 5
}
